{
  "nbformat": 4,
  "nbformat_minor": 0,
  "metadata": {
    "colab": {
      "provenance": [],
      "authorship_tag": "ABX9TyMqXSpgPjF9osXIvFnRfECK",
      "include_colab_link": true
    },
    "kernelspec": {
      "name": "python3",
      "display_name": "Python 3"
    },
    "language_info": {
      "name": "python"
    }
  },
  "cells": [
    {
      "cell_type": "markdown",
      "metadata": {
        "id": "view-in-github",
        "colab_type": "text"
      },
      "source": [
        "<a href=\"https://colab.research.google.com/github/gracelcai/career-launch-group-13/blob/main/exercise_classification_model.ipynb\" target=\"_parent\"><img src=\"https://colab.research.google.com/assets/colab-badge.svg\" alt=\"Open In Colab\"/></a>"
      ]
    },
    {
      "cell_type": "markdown",
      "source": [
        "# 0. Import PyTorch and other libraries"
      ],
      "metadata": {
        "id": "f6VmywDCLS4v"
      }
    },
    {
      "cell_type": "code",
      "source": [
        "import torch\n",
        "import numpy as np"
      ],
      "metadata": {
        "id": "F-V_PQFUGXm1"
      },
      "execution_count": null,
      "outputs": []
    },
    {
      "cell_type": "markdown",
      "source": [
        "# 1. Download and process Kaggle data"
      ],
      "metadata": {
        "id": "UcYXXMWvDg6o"
      }
    },
    {
      "cell_type": "code",
      "source": [
        "!pip install -q opendatasets"
      ],
      "metadata": {
        "colab": {
          "base_uri": "https://localhost:8080/"
        },
        "id": "v-rJ2rklD9FP",
        "outputId": "0e3861fd-2e84-4282-a22a-f6d487b50e58"
      },
      "execution_count": null,
      "outputs": [
        {
          "output_type": "stream",
          "name": "stdout",
          "text": [
            "Downloading exercise-recognition.zip to ./exercise-recognition\n"
          ]
        },
        {
          "output_type": "stream",
          "name": "stderr",
          "text": [
            "100%|██████████| 1.07M/1.07M [00:00<00:00, 93.9MB/s]"
          ]
        },
        {
          "output_type": "stream",
          "name": "stdout",
          "text": [
            "\n"
          ]
        },
        {
          "output_type": "stream",
          "name": "stderr",
          "text": [
            "\n"
          ]
        }
      ]
    },
    {
      "cell_type": "code",
      "source": [
        "import opendatasets as od\n",
        "import pandas as pd\n",
        "\n",
        "od.download('https://www.kaggle.com/datasets/muhannadtuameh/exercise-recognition/data') # insert ypu kaggle  username and key\n",
        "\n",
        "distances_data = pd.read_csv('/content/exercise-recognition/3d_distances.csv')\n",
        "angles_data = pd.read_csv('/content/exercise-recognition/angles.csv')\n",
        "landmarks_data = pd.read_csv('/content/exercise-recognition/landmarks.csv')\n",
        "xyz_distances_data = pd.read_csv('/content/exercise-recognition/xyz_distances.csv')\n",
        "\n",
        "labels_data = pd.read_csv('/content/exercise-recognition/labels.csv')['pose'].tolist()"
      ],
      "metadata": {
        "colab": {
          "base_uri": "https://localhost:8080/"
        },
        "id": "ajujrB8oEeVl",
        "outputId": "dd77ee0c-1e9e-4ea0-a84b-29a603a2e447"
      },
      "execution_count": null,
      "outputs": [
        {
          "output_type": "stream",
          "name": "stdout",
          "text": [
            "Skipping, found downloaded files in \"./exercise-recognition\" (use force=True to force download)\n"
          ]
        }
      ]
    },
    {
      "cell_type": "code",
      "source": [
        "distances_data.head()"
      ],
      "metadata": {
        "colab": {
          "base_uri": "https://localhost:8080/",
          "height": 226
        },
        "id": "kGBankhKK6Uw",
        "outputId": "dd490adb-b09d-42a3-cb3d-1ca462a8aef8"
      },
      "execution_count": null,
      "outputs": [
        {
          "output_type": "execute_result",
          "data": {
            "text/plain": [
              "   pose_id  left_shoulder_left_wrist  right_shoulder_right_wrist  \\\n",
              "0        0                 38.423300                   39.855762   \n",
              "1        1                 65.631510                   65.847110   \n",
              "2        2                 69.661674                   69.360990   \n",
              "3        3                 52.437600                   55.870330   \n",
              "4        4                 30.867628                   43.872227   \n",
              "\n",
              "   left_hip_left_ankle  right_hip_right_ankle  left_hip_left_wrist  \\\n",
              "0            62.640720              57.871964            15.052525   \n",
              "1            55.631300              53.715553           106.099660   \n",
              "2            55.770256              53.510430           110.819440   \n",
              "3            57.758915              57.445232            97.575290   \n",
              "4            67.210240              65.753365            25.952522   \n",
              "\n",
              "   right_hip_right_wrist  left_shoulder_left_ankle  \\\n",
              "0              20.688140                 107.80279   \n",
              "1              99.581940                 108.05316   \n",
              "2             109.959590                 103.96043   \n",
              "3              94.503000                 119.82603   \n",
              "4              44.106445                 105.16242   \n",
              "\n",
              "   right_shoulder_right_ankle  left_hip_right_wrist  right_hip_left_wrist  \\\n",
              "0                  101.256220             25.964552             20.129477   \n",
              "1                  108.368080             99.120370            111.111630   \n",
              "2                  102.363594            109.834720            115.859040   \n",
              "3                  118.113594             92.485230            105.289980   \n",
              "4                  102.763930             44.958740             31.483402   \n",
              "\n",
              "   left_elbow_right_elbow  left_knee_right_knee  left_wrist_right_wrist  \\\n",
              "0               21.891373              9.572068               23.628513   \n",
              "1               34.513107             13.026263               39.510204   \n",
              "2               37.486490             14.406796               43.056570   \n",
              "3               38.071854             12.797712               50.756527   \n",
              "4               22.992490              6.848766               36.983727   \n",
              "\n",
              "   left_ankle_right_ankle  left_hip_avg_left_wrist_left_ankle  \\\n",
              "0                8.817467                           24.935423   \n",
              "1               10.478581                           70.999214   \n",
              "2                9.337358                           75.719420   \n",
              "3                9.881827                           60.924847   \n",
              "4                5.223047                           23.287280   \n",
              "\n",
              "   right_hip_avg_right_wrist_right_ankle  \n",
              "0                              21.897507  \n",
              "1                              66.304980  \n",
              "2                              73.916530  \n",
              "3                              59.798840  \n",
              "4                              19.660568  "
            ],
            "text/html": [
              "\n",
              "  <div id=\"df-a070765a-8516-4700-94df-815df56f6a3d\" class=\"colab-df-container\">\n",
              "    <div>\n",
              "<style scoped>\n",
              "    .dataframe tbody tr th:only-of-type {\n",
              "        vertical-align: middle;\n",
              "    }\n",
              "\n",
              "    .dataframe tbody tr th {\n",
              "        vertical-align: top;\n",
              "    }\n",
              "\n",
              "    .dataframe thead th {\n",
              "        text-align: right;\n",
              "    }\n",
              "</style>\n",
              "<table border=\"1\" class=\"dataframe\">\n",
              "  <thead>\n",
              "    <tr style=\"text-align: right;\">\n",
              "      <th></th>\n",
              "      <th>pose_id</th>\n",
              "      <th>left_shoulder_left_wrist</th>\n",
              "      <th>right_shoulder_right_wrist</th>\n",
              "      <th>left_hip_left_ankle</th>\n",
              "      <th>right_hip_right_ankle</th>\n",
              "      <th>left_hip_left_wrist</th>\n",
              "      <th>right_hip_right_wrist</th>\n",
              "      <th>left_shoulder_left_ankle</th>\n",
              "      <th>right_shoulder_right_ankle</th>\n",
              "      <th>left_hip_right_wrist</th>\n",
              "      <th>right_hip_left_wrist</th>\n",
              "      <th>left_elbow_right_elbow</th>\n",
              "      <th>left_knee_right_knee</th>\n",
              "      <th>left_wrist_right_wrist</th>\n",
              "      <th>left_ankle_right_ankle</th>\n",
              "      <th>left_hip_avg_left_wrist_left_ankle</th>\n",
              "      <th>right_hip_avg_right_wrist_right_ankle</th>\n",
              "    </tr>\n",
              "  </thead>\n",
              "  <tbody>\n",
              "    <tr>\n",
              "      <th>0</th>\n",
              "      <td>0</td>\n",
              "      <td>38.423300</td>\n",
              "      <td>39.855762</td>\n",
              "      <td>62.640720</td>\n",
              "      <td>57.871964</td>\n",
              "      <td>15.052525</td>\n",
              "      <td>20.688140</td>\n",
              "      <td>107.80279</td>\n",
              "      <td>101.256220</td>\n",
              "      <td>25.964552</td>\n",
              "      <td>20.129477</td>\n",
              "      <td>21.891373</td>\n",
              "      <td>9.572068</td>\n",
              "      <td>23.628513</td>\n",
              "      <td>8.817467</td>\n",
              "      <td>24.935423</td>\n",
              "      <td>21.897507</td>\n",
              "    </tr>\n",
              "    <tr>\n",
              "      <th>1</th>\n",
              "      <td>1</td>\n",
              "      <td>65.631510</td>\n",
              "      <td>65.847110</td>\n",
              "      <td>55.631300</td>\n",
              "      <td>53.715553</td>\n",
              "      <td>106.099660</td>\n",
              "      <td>99.581940</td>\n",
              "      <td>108.05316</td>\n",
              "      <td>108.368080</td>\n",
              "      <td>99.120370</td>\n",
              "      <td>111.111630</td>\n",
              "      <td>34.513107</td>\n",
              "      <td>13.026263</td>\n",
              "      <td>39.510204</td>\n",
              "      <td>10.478581</td>\n",
              "      <td>70.999214</td>\n",
              "      <td>66.304980</td>\n",
              "    </tr>\n",
              "    <tr>\n",
              "      <th>2</th>\n",
              "      <td>2</td>\n",
              "      <td>69.661674</td>\n",
              "      <td>69.360990</td>\n",
              "      <td>55.770256</td>\n",
              "      <td>53.510430</td>\n",
              "      <td>110.819440</td>\n",
              "      <td>109.959590</td>\n",
              "      <td>103.96043</td>\n",
              "      <td>102.363594</td>\n",
              "      <td>109.834720</td>\n",
              "      <td>115.859040</td>\n",
              "      <td>37.486490</td>\n",
              "      <td>14.406796</td>\n",
              "      <td>43.056570</td>\n",
              "      <td>9.337358</td>\n",
              "      <td>75.719420</td>\n",
              "      <td>73.916530</td>\n",
              "    </tr>\n",
              "    <tr>\n",
              "      <th>3</th>\n",
              "      <td>3</td>\n",
              "      <td>52.437600</td>\n",
              "      <td>55.870330</td>\n",
              "      <td>57.758915</td>\n",
              "      <td>57.445232</td>\n",
              "      <td>97.575290</td>\n",
              "      <td>94.503000</td>\n",
              "      <td>119.82603</td>\n",
              "      <td>118.113594</td>\n",
              "      <td>92.485230</td>\n",
              "      <td>105.289980</td>\n",
              "      <td>38.071854</td>\n",
              "      <td>12.797712</td>\n",
              "      <td>50.756527</td>\n",
              "      <td>9.881827</td>\n",
              "      <td>60.924847</td>\n",
              "      <td>59.798840</td>\n",
              "    </tr>\n",
              "    <tr>\n",
              "      <th>4</th>\n",
              "      <td>4</td>\n",
              "      <td>30.867628</td>\n",
              "      <td>43.872227</td>\n",
              "      <td>67.210240</td>\n",
              "      <td>65.753365</td>\n",
              "      <td>25.952522</td>\n",
              "      <td>44.106445</td>\n",
              "      <td>105.16242</td>\n",
              "      <td>102.763930</td>\n",
              "      <td>44.958740</td>\n",
              "      <td>31.483402</td>\n",
              "      <td>22.992490</td>\n",
              "      <td>6.848766</td>\n",
              "      <td>36.983727</td>\n",
              "      <td>5.223047</td>\n",
              "      <td>23.287280</td>\n",
              "      <td>19.660568</td>\n",
              "    </tr>\n",
              "  </tbody>\n",
              "</table>\n",
              "</div>\n",
              "    <div class=\"colab-df-buttons\">\n",
              "\n",
              "  <div class=\"colab-df-container\">\n",
              "    <button class=\"colab-df-convert\" onclick=\"convertToInteractive('df-a070765a-8516-4700-94df-815df56f6a3d')\"\n",
              "            title=\"Convert this dataframe to an interactive table.\"\n",
              "            style=\"display:none;\">\n",
              "\n",
              "  <svg xmlns=\"http://www.w3.org/2000/svg\" height=\"24px\" viewBox=\"0 -960 960 960\">\n",
              "    <path d=\"M120-120v-720h720v720H120Zm60-500h600v-160H180v160Zm220 220h160v-160H400v160Zm0 220h160v-160H400v160ZM180-400h160v-160H180v160Zm440 0h160v-160H620v160ZM180-180h160v-160H180v160Zm440 0h160v-160H620v160Z\"/>\n",
              "  </svg>\n",
              "    </button>\n",
              "\n",
              "  <style>\n",
              "    .colab-df-container {\n",
              "      display:flex;\n",
              "      gap: 12px;\n",
              "    }\n",
              "\n",
              "    .colab-df-convert {\n",
              "      background-color: #E8F0FE;\n",
              "      border: none;\n",
              "      border-radius: 50%;\n",
              "      cursor: pointer;\n",
              "      display: none;\n",
              "      fill: #1967D2;\n",
              "      height: 32px;\n",
              "      padding: 0 0 0 0;\n",
              "      width: 32px;\n",
              "    }\n",
              "\n",
              "    .colab-df-convert:hover {\n",
              "      background-color: #E2EBFA;\n",
              "      box-shadow: 0px 1px 2px rgba(60, 64, 67, 0.3), 0px 1px 3px 1px rgba(60, 64, 67, 0.15);\n",
              "      fill: #174EA6;\n",
              "    }\n",
              "\n",
              "    .colab-df-buttons div {\n",
              "      margin-bottom: 4px;\n",
              "    }\n",
              "\n",
              "    [theme=dark] .colab-df-convert {\n",
              "      background-color: #3B4455;\n",
              "      fill: #D2E3FC;\n",
              "    }\n",
              "\n",
              "    [theme=dark] .colab-df-convert:hover {\n",
              "      background-color: #434B5C;\n",
              "      box-shadow: 0px 1px 3px 1px rgba(0, 0, 0, 0.15);\n",
              "      filter: drop-shadow(0px 1px 2px rgba(0, 0, 0, 0.3));\n",
              "      fill: #FFFFFF;\n",
              "    }\n",
              "  </style>\n",
              "\n",
              "    <script>\n",
              "      const buttonEl =\n",
              "        document.querySelector('#df-a070765a-8516-4700-94df-815df56f6a3d button.colab-df-convert');\n",
              "      buttonEl.style.display =\n",
              "        google.colab.kernel.accessAllowed ? 'block' : 'none';\n",
              "\n",
              "      async function convertToInteractive(key) {\n",
              "        const element = document.querySelector('#df-a070765a-8516-4700-94df-815df56f6a3d');\n",
              "        const dataTable =\n",
              "          await google.colab.kernel.invokeFunction('convertToInteractive',\n",
              "                                                    [key], {});\n",
              "        if (!dataTable) return;\n",
              "\n",
              "        const docLinkHtml = 'Like what you see? Visit the ' +\n",
              "          '<a target=\"_blank\" href=https://colab.research.google.com/notebooks/data_table.ipynb>data table notebook</a>'\n",
              "          + ' to learn more about interactive tables.';\n",
              "        element.innerHTML = '';\n",
              "        dataTable['output_type'] = 'display_data';\n",
              "        await google.colab.output.renderOutput(dataTable, element);\n",
              "        const docLink = document.createElement('div');\n",
              "        docLink.innerHTML = docLinkHtml;\n",
              "        element.appendChild(docLink);\n",
              "      }\n",
              "    </script>\n",
              "  </div>\n",
              "\n",
              "\n",
              "<div id=\"df-511ef643-4b21-4261-9ad3-541735e4f5e0\">\n",
              "  <button class=\"colab-df-quickchart\" onclick=\"quickchart('df-511ef643-4b21-4261-9ad3-541735e4f5e0')\"\n",
              "            title=\"Suggest charts\"\n",
              "            style=\"display:none;\">\n",
              "\n",
              "<svg xmlns=\"http://www.w3.org/2000/svg\" height=\"24px\"viewBox=\"0 0 24 24\"\n",
              "     width=\"24px\">\n",
              "    <g>\n",
              "        <path d=\"M19 3H5c-1.1 0-2 .9-2 2v14c0 1.1.9 2 2 2h14c1.1 0 2-.9 2-2V5c0-1.1-.9-2-2-2zM9 17H7v-7h2v7zm4 0h-2V7h2v10zm4 0h-2v-4h2v4z\"/>\n",
              "    </g>\n",
              "</svg>\n",
              "  </button>\n",
              "\n",
              "<style>\n",
              "  .colab-df-quickchart {\n",
              "      --bg-color: #E8F0FE;\n",
              "      --fill-color: #1967D2;\n",
              "      --hover-bg-color: #E2EBFA;\n",
              "      --hover-fill-color: #174EA6;\n",
              "      --disabled-fill-color: #AAA;\n",
              "      --disabled-bg-color: #DDD;\n",
              "  }\n",
              "\n",
              "  [theme=dark] .colab-df-quickchart {\n",
              "      --bg-color: #3B4455;\n",
              "      --fill-color: #D2E3FC;\n",
              "      --hover-bg-color: #434B5C;\n",
              "      --hover-fill-color: #FFFFFF;\n",
              "      --disabled-bg-color: #3B4455;\n",
              "      --disabled-fill-color: #666;\n",
              "  }\n",
              "\n",
              "  .colab-df-quickchart {\n",
              "    background-color: var(--bg-color);\n",
              "    border: none;\n",
              "    border-radius: 50%;\n",
              "    cursor: pointer;\n",
              "    display: none;\n",
              "    fill: var(--fill-color);\n",
              "    height: 32px;\n",
              "    padding: 0;\n",
              "    width: 32px;\n",
              "  }\n",
              "\n",
              "  .colab-df-quickchart:hover {\n",
              "    background-color: var(--hover-bg-color);\n",
              "    box-shadow: 0 1px 2px rgba(60, 64, 67, 0.3), 0 1px 3px 1px rgba(60, 64, 67, 0.15);\n",
              "    fill: var(--button-hover-fill-color);\n",
              "  }\n",
              "\n",
              "  .colab-df-quickchart-complete:disabled,\n",
              "  .colab-df-quickchart-complete:disabled:hover {\n",
              "    background-color: var(--disabled-bg-color);\n",
              "    fill: var(--disabled-fill-color);\n",
              "    box-shadow: none;\n",
              "  }\n",
              "\n",
              "  .colab-df-spinner {\n",
              "    border: 2px solid var(--fill-color);\n",
              "    border-color: transparent;\n",
              "    border-bottom-color: var(--fill-color);\n",
              "    animation:\n",
              "      spin 1s steps(1) infinite;\n",
              "  }\n",
              "\n",
              "  @keyframes spin {\n",
              "    0% {\n",
              "      border-color: transparent;\n",
              "      border-bottom-color: var(--fill-color);\n",
              "      border-left-color: var(--fill-color);\n",
              "    }\n",
              "    20% {\n",
              "      border-color: transparent;\n",
              "      border-left-color: var(--fill-color);\n",
              "      border-top-color: var(--fill-color);\n",
              "    }\n",
              "    30% {\n",
              "      border-color: transparent;\n",
              "      border-left-color: var(--fill-color);\n",
              "      border-top-color: var(--fill-color);\n",
              "      border-right-color: var(--fill-color);\n",
              "    }\n",
              "    40% {\n",
              "      border-color: transparent;\n",
              "      border-right-color: var(--fill-color);\n",
              "      border-top-color: var(--fill-color);\n",
              "    }\n",
              "    60% {\n",
              "      border-color: transparent;\n",
              "      border-right-color: var(--fill-color);\n",
              "    }\n",
              "    80% {\n",
              "      border-color: transparent;\n",
              "      border-right-color: var(--fill-color);\n",
              "      border-bottom-color: var(--fill-color);\n",
              "    }\n",
              "    90% {\n",
              "      border-color: transparent;\n",
              "      border-bottom-color: var(--fill-color);\n",
              "    }\n",
              "  }\n",
              "</style>\n",
              "\n",
              "  <script>\n",
              "    async function quickchart(key) {\n",
              "      const quickchartButtonEl =\n",
              "        document.querySelector('#' + key + ' button');\n",
              "      quickchartButtonEl.disabled = true;  // To prevent multiple clicks.\n",
              "      quickchartButtonEl.classList.add('colab-df-spinner');\n",
              "      try {\n",
              "        const charts = await google.colab.kernel.invokeFunction(\n",
              "            'suggestCharts', [key], {});\n",
              "      } catch (error) {\n",
              "        console.error('Error during call to suggestCharts:', error);\n",
              "      }\n",
              "      quickchartButtonEl.classList.remove('colab-df-spinner');\n",
              "      quickchartButtonEl.classList.add('colab-df-quickchart-complete');\n",
              "    }\n",
              "    (() => {\n",
              "      let quickchartButtonEl =\n",
              "        document.querySelector('#df-511ef643-4b21-4261-9ad3-541735e4f5e0 button');\n",
              "      quickchartButtonEl.style.display =\n",
              "        google.colab.kernel.accessAllowed ? 'block' : 'none';\n",
              "    })();\n",
              "  </script>\n",
              "</div>\n",
              "    </div>\n",
              "  </div>\n"
            ]
          },
          "metadata": {},
          "execution_count": 34
        }
      ]
    },
    {
      "cell_type": "code",
      "source": [
        "# turn string labels into class numbers\n",
        "from sklearn.preprocessing import LabelEncoder\n",
        "from sklearn.preprocessing import OneHotEncoder\n",
        "class_names = [\"pushups_up\", \"pushups_down\", \"pullups_up\", \"pullups_down\", \"jumping_jacks_up\", \"jumping_jacks_down\", \"situp_up\", \"situp_down\", \"squats_up\", \"squats_down\"]\n",
        "\n",
        "label_encoder = LabelEncoder()\n",
        "labels = label_encoder.fit_transform(labels_data)\n",
        "labels"
      ],
      "metadata": {
        "colab": {
          "base_uri": "https://localhost:8080/"
        },
        "id": "LwixrNCSEhu5",
        "outputId": "2aaf1c78-3dab-4ca4-94b8-af8434324176"
      },
      "execution_count": null,
      "outputs": [
        {
          "output_type": "execute_result",
          "data": {
            "text/plain": [
              "array([0, 0, 0, ..., 9, 9, 9])"
            ]
          },
          "metadata": {},
          "execution_count": 33
        }
      ]
    },
    {
      "cell_type": "code",
      "source": [
        "# turn data into tensors - distances only\n",
        "X = torch.from_numpy(distances_data.to_numpy()[:, 1:]).type(torch.float)\n",
        "y = torch.from_numpy(labels).type(torch.float)\n",
        "print(f\"X shape: {X.shape}\")\n",
        "print(f\"y shape: {y.shape}\")"
      ],
      "metadata": {
        "colab": {
          "base_uri": "https://localhost:8080/"
        },
        "id": "5dMkj8TLJGy0",
        "outputId": "754ba9fd-ef35-4292-adc7-48eea9e1b06d"
      },
      "execution_count": null,
      "outputs": [
        {
          "output_type": "stream",
          "name": "stdout",
          "text": [
            "X shape: torch.Size([1372, 16])\n",
            "y shape: torch.Size([1372])\n"
          ]
        }
      ]
    },
    {
      "cell_type": "code",
      "source": [
        "X[:5], y[:5]"
      ],
      "metadata": {
        "colab": {
          "base_uri": "https://localhost:8080/"
        },
        "id": "tIwFdHIcMBRH",
        "outputId": "a03f5816-3407-4a74-d005-d37e5574782e"
      },
      "execution_count": null,
      "outputs": [
        {
          "output_type": "execute_result",
          "data": {
            "text/plain": [
              "(tensor([[ 38.4233,  39.8558,  62.6407,  57.8720,  15.0525,  20.6881, 107.8028,\n",
              "          101.2562,  25.9646,  20.1295,  21.8914,   9.5721,  23.6285,   8.8175,\n",
              "           24.9354,  21.8975],\n",
              "         [ 65.6315,  65.8471,  55.6313,  53.7156, 106.0997,  99.5819, 108.0532,\n",
              "          108.3681,  99.1204, 111.1116,  34.5131,  13.0263,  39.5102,  10.4786,\n",
              "           70.9992,  66.3050],\n",
              "         [ 69.6617,  69.3610,  55.7703,  53.5104, 110.8194, 109.9596, 103.9604,\n",
              "          102.3636, 109.8347, 115.8590,  37.4865,  14.4068,  43.0566,   9.3374,\n",
              "           75.7194,  73.9165],\n",
              "         [ 52.4376,  55.8703,  57.7589,  57.4452,  97.5753,  94.5030, 119.8260,\n",
              "          118.1136,  92.4852, 105.2900,  38.0719,  12.7977,  50.7565,   9.8818,\n",
              "           60.9248,  59.7988],\n",
              "         [ 30.8676,  43.8722,  67.2102,  65.7534,  25.9525,  44.1064, 105.1624,\n",
              "          102.7639,  44.9587,  31.4834,  22.9925,   6.8488,  36.9837,   5.2230,\n",
              "           23.2873,  19.6606]]),\n",
              " tensor([0., 0., 0., 0., 0.]))"
            ]
          },
          "metadata": {},
          "execution_count": 51
        }
      ]
    },
    {
      "cell_type": "code",
      "source": [
        "type(X), X.dtype, y.dtype"
      ],
      "metadata": {
        "colab": {
          "base_uri": "https://localhost:8080/"
        },
        "id": "KYZUPWM1MJAN",
        "outputId": "aa94ed91-4179-4f1d-dc06-e1a8355163c8"
      },
      "execution_count": null,
      "outputs": [
        {
          "output_type": "execute_result",
          "data": {
            "text/plain": [
              "(torch.Tensor, torch.float32, torch.float32)"
            ]
          },
          "metadata": {},
          "execution_count": 53
        }
      ]
    },
    {
      "cell_type": "code",
      "source": [
        "# split data into training and test sets\n",
        "from sklearn.model_selection import train_test_split\n",
        "X_train, X_test, y_train, y_test = train_test_split(X,\n",
        "                                                    y,\n",
        "                                                    test_size=0.2, # percentage of test\n",
        "                                                    random_state=42)\n",
        "X_train.shape, y_train.shape"
      ],
      "metadata": {
        "id": "wLDPex4mNPqc",
        "colab": {
          "base_uri": "https://localhost:8080/"
        },
        "outputId": "ec66a887-bb5a-4ea2-b872-6653cb90793a"
      },
      "execution_count": null,
      "outputs": [
        {
          "output_type": "execute_result",
          "data": {
            "text/plain": [
              "(torch.Size([1097, 16]), torch.Size([1097]))"
            ]
          },
          "metadata": {},
          "execution_count": 70
        }
      ]
    },
    {
      "cell_type": "code",
      "source": [
        "len(X_train), len(X_test)"
      ],
      "metadata": {
        "colab": {
          "base_uri": "https://localhost:8080/"
        },
        "id": "Q9cheDJ-NSka",
        "outputId": "345a8b59-001d-4b5e-b079-7c33ed69e890"
      },
      "execution_count": null,
      "outputs": [
        {
          "output_type": "execute_result",
          "data": {
            "text/plain": [
              "(1097, 275)"
            ]
          },
          "metadata": {},
          "execution_count": 55
        }
      ]
    },
    {
      "cell_type": "markdown",
      "source": [
        "# 2. Model"
      ],
      "metadata": {
        "id": "Bbq_K4BSNUMj"
      }
    },
    {
      "cell_type": "code",
      "source": [
        "import torch\n",
        "from torch import nn\n",
        "\n",
        "device = \"cuda\" if torch.cuda.is_available() else \"cpu\"\n",
        "device"
      ],
      "metadata": {
        "colab": {
          "base_uri": "https://localhost:8080/",
          "height": 35
        },
        "id": "VLf_mos8NZfr",
        "outputId": "835c172e-62c9-442d-b620-895e4fd77221"
      },
      "execution_count": null,
      "outputs": [
        {
          "output_type": "execute_result",
          "data": {
            "text/plain": [
              "'cpu'"
            ],
            "application/vnd.google.colaboratory.intrinsic+json": {
              "type": "string"
            }
          },
          "metadata": {},
          "execution_count": 56
        }
      ]
    },
    {
      "cell_type": "code",
      "source": [
        "class DistanceModelV0(nn.Module):\n",
        "  def __init__(self, input_features, output_features, hidden_units=8):\n",
        "    super().__init__()\n",
        "\n",
        "    self.layer_stack = nn.Sequential(\n",
        "        nn.Linear(in_features=input_features, out_features=hidden_units),\n",
        "        nn.ReLU(),\n",
        "        nn.Linear(in_features=hidden_units, out_features=hidden_units),\n",
        "        nn.ReLU(),\n",
        "        nn.Linear(in_features=hidden_units, out_features=output_features)\n",
        "    )\n",
        "\n",
        "  def forward(self, x: torch.Tensor) -> torch.Tensor:\n",
        "    return self.layer_stack(x)\n",
        "\n",
        "distance_model_0 = DistanceModelV0(input_features=16,\n",
        "                                   hidden_units=200,\n",
        "                                   output_features=10).to(device)\n",
        "distance_model_0"
      ],
      "metadata": {
        "id": "UE02gwEyNd7g",
        "colab": {
          "base_uri": "https://localhost:8080/"
        },
        "outputId": "9452cb0d-efe7-40e7-ae6e-704ec867ae53"
      },
      "execution_count": null,
      "outputs": [
        {
          "output_type": "execute_result",
          "data": {
            "text/plain": [
              "DistanceModelV0(\n",
              "  (layer_stack): Sequential(\n",
              "    (0): Linear(in_features=16, out_features=200, bias=True)\n",
              "    (1): ReLU()\n",
              "    (2): Linear(in_features=200, out_features=200, bias=True)\n",
              "    (3): ReLU()\n",
              "    (4): Linear(in_features=200, out_features=10, bias=True)\n",
              "  )\n",
              ")"
            ]
          },
          "metadata": {},
          "execution_count": 105
        }
      ]
    },
    {
      "cell_type": "markdown",
      "source": [
        "# 3. Train distance model"
      ],
      "metadata": {
        "id": "4oDxhGhwRATX"
      }
    },
    {
      "cell_type": "markdown",
      "source": [
        "## 3.1 Functions"
      ],
      "metadata": {
        "id": "_GVfq3BgSAo8"
      }
    },
    {
      "cell_type": "code",
      "source": [
        "# calculate accuracy\n",
        "def accuracy_fn(y_true, y_pred):\n",
        "  correct = torch.eq(y_true, y_pred).sum().item()\n",
        "  acc = (correct/len(y_pred)) * 100\n",
        "  return acc"
      ],
      "metadata": {
        "id": "Ck3t1BtNSGI8"
      },
      "execution_count": null,
      "outputs": []
    },
    {
      "cell_type": "code",
      "source": [
        "# loss function and optimizer\n",
        "loss_fn = nn.CrossEntropyLoss()\n",
        "\n",
        "optimizer = torch.optim.SGD(params=distance_model_0.parameters(),\n",
        "                            lr=0.01)"
      ],
      "metadata": {
        "id": "Tl1PRxllSVj7"
      },
      "execution_count": null,
      "outputs": []
    },
    {
      "cell_type": "code",
      "source": [
        "# fit the multi-class model to the data\n",
        "torch.manual_seed(42)\n",
        "torch.cuda.manual_seed(42)\n",
        "\n",
        "epochs = 200\n",
        "\n",
        "X_train, y_train = X_train.to(device), y_train.to(device)\n",
        "X_test, y_test = X_test.to(device), y_test.to(device)\n",
        "\n",
        "for epoch in range(epochs):\n",
        "  distance_model_0.train()\n",
        "\n",
        "  y_logits = distance_model_0(X_train)\n",
        "  y_pred = torch.softmax(y_logits, dim=1).argmax(dim=1)\n",
        "\n",
        "  loss = loss_fn(y_logits, y_train.type(torch.LongTensor))\n",
        "  acc = accuracy_fn(y_true=y_train,\n",
        "                    y_pred=y_pred)\n",
        "\n",
        "  optimizer.zero_grad()\n",
        "  loss.backward()\n",
        "  optimizer.step()\n",
        "\n",
        "  ### Testing\n",
        "  distance_model_0.eval()\n",
        "  with torch.inference_mode():\n",
        "    test_logits = distance_model_0(X_test)\n",
        "    test_pred = torch.softmax(test_logits, dim=1).argmax(dim=1)\n",
        "\n",
        "    test_loss = loss_fn(test_logits, y_test.type(torch.LongTensor))\n",
        "    test_acc = accuracy_fn(y_true=y_test,\n",
        "                      y_pred=test_pred)\n",
        "\n",
        "    if epoch % 10 == 0:\n",
        "      print(f\"Epoch: {epoch} | Loss: {loss:.5f}, Accuracy: {acc:.2f}% | Test loss: {test_loss:.5f}, Test accuracy: {test_acc:.2f}%\")"
      ],
      "metadata": {
        "colab": {
          "base_uri": "https://localhost:8080/"
        },
        "id": "AdFHLZX0TIDO",
        "outputId": "ef0a0a19-5bb1-4ba2-dbdf-18da8b323a2c"
      },
      "execution_count": null,
      "outputs": [
        {
          "output_type": "stream",
          "name": "stdout",
          "text": [
            "Epoch: 0 | Loss: 0.87565, Accuracy: 69.74% | Test loss: 1.27044, Test accuracy: 58.18%\n",
            "Epoch: 10 | Loss: 0.81950, Accuracy: 73.75% | Test loss: 1.22899, Test accuracy: 61.45%\n",
            "Epoch: 20 | Loss: 0.85160, Accuracy: 72.56% | Test loss: 1.29818, Test accuracy: 58.91%\n",
            "Epoch: 30 | Loss: 0.82921, Accuracy: 73.38% | Test loss: 1.24355, Test accuracy: 61.82%\n",
            "Epoch: 40 | Loss: 0.79744, Accuracy: 74.20% | Test loss: 1.22299, Test accuracy: 62.91%\n",
            "Epoch: 50 | Loss: 0.77633, Accuracy: 74.29% | Test loss: 1.21425, Test accuracy: 63.27%\n",
            "Epoch: 60 | Loss: 0.75679, Accuracy: 74.84% | Test loss: 1.20750, Test accuracy: 63.64%\n",
            "Epoch: 70 | Loss: 0.79909, Accuracy: 71.47% | Test loss: 1.24624, Test accuracy: 57.09%\n",
            "Epoch: 80 | Loss: 0.73660, Accuracy: 76.48% | Test loss: 1.21740, Test accuracy: 62.55%\n",
            "Epoch: 90 | Loss: 0.72584, Accuracy: 77.03% | Test loss: 1.21688, Test accuracy: 64.00%\n",
            "Epoch: 100 | Loss: 0.73602, Accuracy: 76.85% | Test loss: 1.29781, Test accuracy: 59.64%\n",
            "Epoch: 110 | Loss: 0.72188, Accuracy: 76.48% | Test loss: 1.24328, Test accuracy: 61.45%\n",
            "Epoch: 120 | Loss: 0.69506, Accuracy: 77.85% | Test loss: 1.23218, Test accuracy: 62.55%\n",
            "Epoch: 130 | Loss: 0.74277, Accuracy: 76.30% | Test loss: 1.22871, Test accuracy: 61.09%\n",
            "Epoch: 140 | Loss: 0.66253, Accuracy: 79.58% | Test loss: 1.19954, Test accuracy: 63.64%\n",
            "Epoch: 150 | Loss: 0.68776, Accuracy: 79.03% | Test loss: 1.20274, Test accuracy: 65.09%\n",
            "Epoch: 160 | Loss: 0.66941, Accuracy: 78.76% | Test loss: 1.19122, Test accuracy: 64.36%\n",
            "Epoch: 170 | Loss: 0.64494, Accuracy: 79.03% | Test loss: 1.18491, Test accuracy: 63.27%\n",
            "Epoch: 180 | Loss: 0.69223, Accuracy: 75.48% | Test loss: 1.24331, Test accuracy: 61.09%\n",
            "Epoch: 190 | Loss: 0.62940, Accuracy: 79.76% | Test loss: 1.20998, Test accuracy: 61.82%\n"
          ]
        }
      ]
    },
    {
      "cell_type": "code",
      "source": [],
      "metadata": {
        "id": "Tncj9shWV4QY"
      },
      "execution_count": null,
      "outputs": []
    }
  ]
}