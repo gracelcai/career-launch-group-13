{
  "nbformat": 4,
  "nbformat_minor": 0,
  "metadata": {
    "colab": {
      "provenance": [],
      "include_colab_link": true
    },
    "kernelspec": {
      "name": "python3",
      "display_name": "Python 3"
    },
    "language_info": {
      "name": "python"
    }
  },
  "cells": [
    {
      "cell_type": "markdown",
      "metadata": {
        "id": "view-in-github",
        "colab_type": "text"
      },
      "source": [
        "<a href=\"https://colab.research.google.com/github/gracelcai/career-launch-group-13/blob/main/exercise_classification_model.ipynb\" target=\"_parent\"><img src=\"https://colab.research.google.com/assets/colab-badge.svg\" alt=\"Open In Colab\"/></a>"
      ]
    },
    {
      "cell_type": "markdown",
      "source": [
        "# 0. Import PyTorch and other libraries"
      ],
      "metadata": {
        "id": "f6VmywDCLS4v"
      }
    },
    {
      "cell_type": "code",
      "source": [
        "import torch\n",
        "import numpy as np"
      ],
      "metadata": {
        "id": "F-V_PQFUGXm1"
      },
      "execution_count": 1,
      "outputs": []
    },
    {
      "cell_type": "markdown",
      "source": [
        "# 1. Download and process Kaggle data\n",
        "We are using the Kaggle dataset of landmarks, distances, and angles of 5 different exercise.\n",
        "\n",
        "For the dataset and more info, see: https://www.kaggle.com/competitions/fitness-pose-classification/discussion"
      ],
      "metadata": {
        "id": "UcYXXMWvDg6o"
      }
    },
    {
      "cell_type": "code",
      "source": [
        "!pip install -q opendatasets"
      ],
      "metadata": {
        "id": "v-rJ2rklD9FP"
      },
      "execution_count": 2,
      "outputs": []
    },
    {
      "cell_type": "code",
      "source": [
        "# upload kaggle json file\n",
        "from google.colab import files\n",
        "uploaded = files.upload()"
      ],
      "metadata": {
        "colab": {
          "base_uri": "https://localhost:8080/",
          "height": 74
        },
        "id": "lL6EZqXFkAol",
        "outputId": "89cb64bb-2f5f-4050-e36e-56a6f028d919"
      },
      "execution_count": 3,
      "outputs": [
        {
          "output_type": "display_data",
          "data": {
            "text/plain": [
              "<IPython.core.display.HTML object>"
            ],
            "text/html": [
              "\n",
              "     <input type=\"file\" id=\"files-373a7ce5-e5ab-4536-bfcb-e50e6e6489c2\" name=\"files[]\" multiple disabled\n",
              "        style=\"border:none\" />\n",
              "     <output id=\"result-373a7ce5-e5ab-4536-bfcb-e50e6e6489c2\">\n",
              "      Upload widget is only available when the cell has been executed in the\n",
              "      current browser session. Please rerun this cell to enable.\n",
              "      </output>\n",
              "      <script>// Copyright 2017 Google LLC\n",
              "//\n",
              "// Licensed under the Apache License, Version 2.0 (the \"License\");\n",
              "// you may not use this file except in compliance with the License.\n",
              "// You may obtain a copy of the License at\n",
              "//\n",
              "//      http://www.apache.org/licenses/LICENSE-2.0\n",
              "//\n",
              "// Unless required by applicable law or agreed to in writing, software\n",
              "// distributed under the License is distributed on an \"AS IS\" BASIS,\n",
              "// WITHOUT WARRANTIES OR CONDITIONS OF ANY KIND, either express or implied.\n",
              "// See the License for the specific language governing permissions and\n",
              "// limitations under the License.\n",
              "\n",
              "/**\n",
              " * @fileoverview Helpers for google.colab Python module.\n",
              " */\n",
              "(function(scope) {\n",
              "function span(text, styleAttributes = {}) {\n",
              "  const element = document.createElement('span');\n",
              "  element.textContent = text;\n",
              "  for (const key of Object.keys(styleAttributes)) {\n",
              "    element.style[key] = styleAttributes[key];\n",
              "  }\n",
              "  return element;\n",
              "}\n",
              "\n",
              "// Max number of bytes which will be uploaded at a time.\n",
              "const MAX_PAYLOAD_SIZE = 100 * 1024;\n",
              "\n",
              "function _uploadFiles(inputId, outputId) {\n",
              "  const steps = uploadFilesStep(inputId, outputId);\n",
              "  const outputElement = document.getElementById(outputId);\n",
              "  // Cache steps on the outputElement to make it available for the next call\n",
              "  // to uploadFilesContinue from Python.\n",
              "  outputElement.steps = steps;\n",
              "\n",
              "  return _uploadFilesContinue(outputId);\n",
              "}\n",
              "\n",
              "// This is roughly an async generator (not supported in the browser yet),\n",
              "// where there are multiple asynchronous steps and the Python side is going\n",
              "// to poll for completion of each step.\n",
              "// This uses a Promise to block the python side on completion of each step,\n",
              "// then passes the result of the previous step as the input to the next step.\n",
              "function _uploadFilesContinue(outputId) {\n",
              "  const outputElement = document.getElementById(outputId);\n",
              "  const steps = outputElement.steps;\n",
              "\n",
              "  const next = steps.next(outputElement.lastPromiseValue);\n",
              "  return Promise.resolve(next.value.promise).then((value) => {\n",
              "    // Cache the last promise value to make it available to the next\n",
              "    // step of the generator.\n",
              "    outputElement.lastPromiseValue = value;\n",
              "    return next.value.response;\n",
              "  });\n",
              "}\n",
              "\n",
              "/**\n",
              " * Generator function which is called between each async step of the upload\n",
              " * process.\n",
              " * @param {string} inputId Element ID of the input file picker element.\n",
              " * @param {string} outputId Element ID of the output display.\n",
              " * @return {!Iterable<!Object>} Iterable of next steps.\n",
              " */\n",
              "function* uploadFilesStep(inputId, outputId) {\n",
              "  const inputElement = document.getElementById(inputId);\n",
              "  inputElement.disabled = false;\n",
              "\n",
              "  const outputElement = document.getElementById(outputId);\n",
              "  outputElement.innerHTML = '';\n",
              "\n",
              "  const pickedPromise = new Promise((resolve) => {\n",
              "    inputElement.addEventListener('change', (e) => {\n",
              "      resolve(e.target.files);\n",
              "    });\n",
              "  });\n",
              "\n",
              "  const cancel = document.createElement('button');\n",
              "  inputElement.parentElement.appendChild(cancel);\n",
              "  cancel.textContent = 'Cancel upload';\n",
              "  const cancelPromise = new Promise((resolve) => {\n",
              "    cancel.onclick = () => {\n",
              "      resolve(null);\n",
              "    };\n",
              "  });\n",
              "\n",
              "  // Wait for the user to pick the files.\n",
              "  const files = yield {\n",
              "    promise: Promise.race([pickedPromise, cancelPromise]),\n",
              "    response: {\n",
              "      action: 'starting',\n",
              "    }\n",
              "  };\n",
              "\n",
              "  cancel.remove();\n",
              "\n",
              "  // Disable the input element since further picks are not allowed.\n",
              "  inputElement.disabled = true;\n",
              "\n",
              "  if (!files) {\n",
              "    return {\n",
              "      response: {\n",
              "        action: 'complete',\n",
              "      }\n",
              "    };\n",
              "  }\n",
              "\n",
              "  for (const file of files) {\n",
              "    const li = document.createElement('li');\n",
              "    li.append(span(file.name, {fontWeight: 'bold'}));\n",
              "    li.append(span(\n",
              "        `(${file.type || 'n/a'}) - ${file.size} bytes, ` +\n",
              "        `last modified: ${\n",
              "            file.lastModifiedDate ? file.lastModifiedDate.toLocaleDateString() :\n",
              "                                    'n/a'} - `));\n",
              "    const percent = span('0% done');\n",
              "    li.appendChild(percent);\n",
              "\n",
              "    outputElement.appendChild(li);\n",
              "\n",
              "    const fileDataPromise = new Promise((resolve) => {\n",
              "      const reader = new FileReader();\n",
              "      reader.onload = (e) => {\n",
              "        resolve(e.target.result);\n",
              "      };\n",
              "      reader.readAsArrayBuffer(file);\n",
              "    });\n",
              "    // Wait for the data to be ready.\n",
              "    let fileData = yield {\n",
              "      promise: fileDataPromise,\n",
              "      response: {\n",
              "        action: 'continue',\n",
              "      }\n",
              "    };\n",
              "\n",
              "    // Use a chunked sending to avoid message size limits. See b/62115660.\n",
              "    let position = 0;\n",
              "    do {\n",
              "      const length = Math.min(fileData.byteLength - position, MAX_PAYLOAD_SIZE);\n",
              "      const chunk = new Uint8Array(fileData, position, length);\n",
              "      position += length;\n",
              "\n",
              "      const base64 = btoa(String.fromCharCode.apply(null, chunk));\n",
              "      yield {\n",
              "        response: {\n",
              "          action: 'append',\n",
              "          file: file.name,\n",
              "          data: base64,\n",
              "        },\n",
              "      };\n",
              "\n",
              "      let percentDone = fileData.byteLength === 0 ?\n",
              "          100 :\n",
              "          Math.round((position / fileData.byteLength) * 100);\n",
              "      percent.textContent = `${percentDone}% done`;\n",
              "\n",
              "    } while (position < fileData.byteLength);\n",
              "  }\n",
              "\n",
              "  // All done.\n",
              "  yield {\n",
              "    response: {\n",
              "      action: 'complete',\n",
              "    }\n",
              "  };\n",
              "}\n",
              "\n",
              "scope.google = scope.google || {};\n",
              "scope.google.colab = scope.google.colab || {};\n",
              "scope.google.colab._files = {\n",
              "  _uploadFiles,\n",
              "  _uploadFilesContinue,\n",
              "};\n",
              "})(self);\n",
              "</script> "
            ]
          },
          "metadata": {}
        },
        {
          "output_type": "stream",
          "name": "stdout",
          "text": [
            "Saving kaggle.json to kaggle.json\n"
          ]
        }
      ]
    },
    {
      "cell_type": "code",
      "source": [
        "import opendatasets as od\n",
        "import pandas as pd\n",
        "\n",
        "od.download('https://www.kaggle.com/datasets/muhannadtuameh/exercise-recognition/data') # insert ypu kaggle  username and key\n",
        "\n",
        "distances_data = pd.read_csv('/content/exercise-recognition/3d_distances.csv')\n",
        "angles_data = pd.read_csv('/content/exercise-recognition/angles.csv')\n",
        "landmarks_data = pd.read_csv('/content/exercise-recognition/landmarks.csv')\n",
        "xyz_distances_data = pd.read_csv('/content/exercise-recognition/xyz_distances.csv')\n",
        "\n",
        "labels_data = pd.read_csv('/content/exercise-recognition/labels.csv')['pose'].tolist()"
      ],
      "metadata": {
        "colab": {
          "base_uri": "https://localhost:8080/"
        },
        "id": "ajujrB8oEeVl",
        "outputId": "553a49bf-6606-48af-9481-72d640d1c034"
      },
      "execution_count": 4,
      "outputs": [
        {
          "output_type": "stream",
          "name": "stdout",
          "text": [
            "Downloading exercise-recognition.zip to ./exercise-recognition\n"
          ]
        },
        {
          "output_type": "stream",
          "name": "stderr",
          "text": [
            "100%|██████████| 1.07M/1.07M [00:00<00:00, 41.4MB/s]"
          ]
        },
        {
          "output_type": "stream",
          "name": "stdout",
          "text": [
            "\n"
          ]
        },
        {
          "output_type": "stream",
          "name": "stderr",
          "text": [
            "\n"
          ]
        }
      ]
    },
    {
      "cell_type": "code",
      "source": [
        "distances_data.shape"
      ],
      "metadata": {
        "colab": {
          "base_uri": "https://localhost:8080/"
        },
        "id": "5QCJmoEp1fq6",
        "outputId": "cef6f716-18aa-42f0-ff72-3211e7954ad2"
      },
      "execution_count": 5,
      "outputs": [
        {
          "output_type": "execute_result",
          "data": {
            "text/plain": [
              "(1372, 17)"
            ]
          },
          "metadata": {},
          "execution_count": 5
        }
      ]
    },
    {
      "cell_type": "code",
      "source": [
        "landmarks_data.head()"
      ],
      "metadata": {
        "id": "kGBankhKK6Uw",
        "colab": {
          "base_uri": "https://localhost:8080/",
          "height": 256
        },
        "outputId": "98ce84b5-6ad3-4205-9a92-d466faae981c"
      },
      "execution_count": 6,
      "outputs": [
        {
          "output_type": "execute_result",
          "data": {
            "text/plain": [
              "   pose_id    x_nose     y_nose      z_nose  x_left_eye_inner  \\\n",
              "0        0 -5.889507 -57.637520  -45.019750         -4.656085   \n",
              "1        1 -4.255504 -62.935925 -128.907500         -2.977403   \n",
              "2        2 -2.878917 -61.709988 -137.453340         -1.619050   \n",
              "3        3 -4.242575 -60.371220 -135.094830         -3.118133   \n",
              "4        4 -0.805543 -56.178570  -41.124413         -0.055174   \n",
              "\n",
              "   y_left_eye_inner  z_left_eye_inner  x_left_eye  y_left_eye  z_left_eye  \\\n",
              "0        -62.832863        -44.571823   -3.302626  -63.386856  -44.567863   \n",
              "1        -67.035990       -124.258545   -2.215265  -67.198250 -124.263240   \n",
              "2        -65.693750       -132.181660   -0.785822  -65.814340 -132.184070   \n",
              "3        -64.416000       -129.995930   -2.369744  -64.603290 -130.003400   \n",
              "4        -58.501305        -37.938560    0.456936  -58.473960  -37.954430   \n",
              "\n",
              "   ...  z_left_heel  x_right_heel  y_right_heel  z_right_heel  \\\n",
              "0  ...    56.852562     -0.842025     35.037060     50.565020   \n",
              "1  ...   -14.129170     -1.298891     54.733307     -6.886051   \n",
              "2  ...   -19.904400     -2.119770     51.265694    -15.554097   \n",
              "3  ...    -6.855729     -1.485475     59.729427      1.433403   \n",
              "4  ...    47.124107     -2.455719     52.861732     45.936783   \n",
              "\n",
              "   x_left_foot_index  y_left_foot_index  z_left_foot_index  \\\n",
              "0           5.842190          45.971020          50.263714   \n",
              "1           3.980098          65.370830         -49.023930   \n",
              "2           1.994894          62.725025         -57.717957   \n",
              "3           1.950102          68.187256         -42.989098   \n",
              "4           2.699764          57.254112          27.531416   \n",
              "\n",
              "   x_right_foot_index  y_right_foot_index  z_right_foot_index  \n",
              "0            0.092779           45.842150           41.427795  \n",
              "1           -5.090634           65.641780          -42.878056  \n",
              "2           -4.452602           62.494457          -53.804527  \n",
              "3           -4.573338           68.144350          -34.117043  \n",
              "4           -2.288348           57.803005           26.288315  \n",
              "\n",
              "[5 rows x 100 columns]"
            ],
            "text/html": [
              "\n",
              "  <div id=\"df-d67e28e5-f84a-45cf-a84d-5a133c73046d\" class=\"colab-df-container\">\n",
              "    <div>\n",
              "<style scoped>\n",
              "    .dataframe tbody tr th:only-of-type {\n",
              "        vertical-align: middle;\n",
              "    }\n",
              "\n",
              "    .dataframe tbody tr th {\n",
              "        vertical-align: top;\n",
              "    }\n",
              "\n",
              "    .dataframe thead th {\n",
              "        text-align: right;\n",
              "    }\n",
              "</style>\n",
              "<table border=\"1\" class=\"dataframe\">\n",
              "  <thead>\n",
              "    <tr style=\"text-align: right;\">\n",
              "      <th></th>\n",
              "      <th>pose_id</th>\n",
              "      <th>x_nose</th>\n",
              "      <th>y_nose</th>\n",
              "      <th>z_nose</th>\n",
              "      <th>x_left_eye_inner</th>\n",
              "      <th>y_left_eye_inner</th>\n",
              "      <th>z_left_eye_inner</th>\n",
              "      <th>x_left_eye</th>\n",
              "      <th>y_left_eye</th>\n",
              "      <th>z_left_eye</th>\n",
              "      <th>...</th>\n",
              "      <th>z_left_heel</th>\n",
              "      <th>x_right_heel</th>\n",
              "      <th>y_right_heel</th>\n",
              "      <th>z_right_heel</th>\n",
              "      <th>x_left_foot_index</th>\n",
              "      <th>y_left_foot_index</th>\n",
              "      <th>z_left_foot_index</th>\n",
              "      <th>x_right_foot_index</th>\n",
              "      <th>y_right_foot_index</th>\n",
              "      <th>z_right_foot_index</th>\n",
              "    </tr>\n",
              "  </thead>\n",
              "  <tbody>\n",
              "    <tr>\n",
              "      <th>0</th>\n",
              "      <td>0</td>\n",
              "      <td>-5.889507</td>\n",
              "      <td>-57.637520</td>\n",
              "      <td>-45.019750</td>\n",
              "      <td>-4.656085</td>\n",
              "      <td>-62.832863</td>\n",
              "      <td>-44.571823</td>\n",
              "      <td>-3.302626</td>\n",
              "      <td>-63.386856</td>\n",
              "      <td>-44.567863</td>\n",
              "      <td>...</td>\n",
              "      <td>56.852562</td>\n",
              "      <td>-0.842025</td>\n",
              "      <td>35.037060</td>\n",
              "      <td>50.565020</td>\n",
              "      <td>5.842190</td>\n",
              "      <td>45.971020</td>\n",
              "      <td>50.263714</td>\n",
              "      <td>0.092779</td>\n",
              "      <td>45.842150</td>\n",
              "      <td>41.427795</td>\n",
              "    </tr>\n",
              "    <tr>\n",
              "      <th>1</th>\n",
              "      <td>1</td>\n",
              "      <td>-4.255504</td>\n",
              "      <td>-62.935925</td>\n",
              "      <td>-128.907500</td>\n",
              "      <td>-2.977403</td>\n",
              "      <td>-67.035990</td>\n",
              "      <td>-124.258545</td>\n",
              "      <td>-2.215265</td>\n",
              "      <td>-67.198250</td>\n",
              "      <td>-124.263240</td>\n",
              "      <td>...</td>\n",
              "      <td>-14.129170</td>\n",
              "      <td>-1.298891</td>\n",
              "      <td>54.733307</td>\n",
              "      <td>-6.886051</td>\n",
              "      <td>3.980098</td>\n",
              "      <td>65.370830</td>\n",
              "      <td>-49.023930</td>\n",
              "      <td>-5.090634</td>\n",
              "      <td>65.641780</td>\n",
              "      <td>-42.878056</td>\n",
              "    </tr>\n",
              "    <tr>\n",
              "      <th>2</th>\n",
              "      <td>2</td>\n",
              "      <td>-2.878917</td>\n",
              "      <td>-61.709988</td>\n",
              "      <td>-137.453340</td>\n",
              "      <td>-1.619050</td>\n",
              "      <td>-65.693750</td>\n",
              "      <td>-132.181660</td>\n",
              "      <td>-0.785822</td>\n",
              "      <td>-65.814340</td>\n",
              "      <td>-132.184070</td>\n",
              "      <td>...</td>\n",
              "      <td>-19.904400</td>\n",
              "      <td>-2.119770</td>\n",
              "      <td>51.265694</td>\n",
              "      <td>-15.554097</td>\n",
              "      <td>1.994894</td>\n",
              "      <td>62.725025</td>\n",
              "      <td>-57.717957</td>\n",
              "      <td>-4.452602</td>\n",
              "      <td>62.494457</td>\n",
              "      <td>-53.804527</td>\n",
              "    </tr>\n",
              "    <tr>\n",
              "      <th>3</th>\n",
              "      <td>3</td>\n",
              "      <td>-4.242575</td>\n",
              "      <td>-60.371220</td>\n",
              "      <td>-135.094830</td>\n",
              "      <td>-3.118133</td>\n",
              "      <td>-64.416000</td>\n",
              "      <td>-129.995930</td>\n",
              "      <td>-2.369744</td>\n",
              "      <td>-64.603290</td>\n",
              "      <td>-130.003400</td>\n",
              "      <td>...</td>\n",
              "      <td>-6.855729</td>\n",
              "      <td>-1.485475</td>\n",
              "      <td>59.729427</td>\n",
              "      <td>1.433403</td>\n",
              "      <td>1.950102</td>\n",
              "      <td>68.187256</td>\n",
              "      <td>-42.989098</td>\n",
              "      <td>-4.573338</td>\n",
              "      <td>68.144350</td>\n",
              "      <td>-34.117043</td>\n",
              "    </tr>\n",
              "    <tr>\n",
              "      <th>4</th>\n",
              "      <td>4</td>\n",
              "      <td>-0.805543</td>\n",
              "      <td>-56.178570</td>\n",
              "      <td>-41.124413</td>\n",
              "      <td>-0.055174</td>\n",
              "      <td>-58.501305</td>\n",
              "      <td>-37.938560</td>\n",
              "      <td>0.456936</td>\n",
              "      <td>-58.473960</td>\n",
              "      <td>-37.954430</td>\n",
              "      <td>...</td>\n",
              "      <td>47.124107</td>\n",
              "      <td>-2.455719</td>\n",
              "      <td>52.861732</td>\n",
              "      <td>45.936783</td>\n",
              "      <td>2.699764</td>\n",
              "      <td>57.254112</td>\n",
              "      <td>27.531416</td>\n",
              "      <td>-2.288348</td>\n",
              "      <td>57.803005</td>\n",
              "      <td>26.288315</td>\n",
              "    </tr>\n",
              "  </tbody>\n",
              "</table>\n",
              "<p>5 rows × 100 columns</p>\n",
              "</div>\n",
              "    <div class=\"colab-df-buttons\">\n",
              "\n",
              "  <div class=\"colab-df-container\">\n",
              "    <button class=\"colab-df-convert\" onclick=\"convertToInteractive('df-d67e28e5-f84a-45cf-a84d-5a133c73046d')\"\n",
              "            title=\"Convert this dataframe to an interactive table.\"\n",
              "            style=\"display:none;\">\n",
              "\n",
              "  <svg xmlns=\"http://www.w3.org/2000/svg\" height=\"24px\" viewBox=\"0 -960 960 960\">\n",
              "    <path d=\"M120-120v-720h720v720H120Zm60-500h600v-160H180v160Zm220 220h160v-160H400v160Zm0 220h160v-160H400v160ZM180-400h160v-160H180v160Zm440 0h160v-160H620v160ZM180-180h160v-160H180v160Zm440 0h160v-160H620v160Z\"/>\n",
              "  </svg>\n",
              "    </button>\n",
              "\n",
              "  <style>\n",
              "    .colab-df-container {\n",
              "      display:flex;\n",
              "      gap: 12px;\n",
              "    }\n",
              "\n",
              "    .colab-df-convert {\n",
              "      background-color: #E8F0FE;\n",
              "      border: none;\n",
              "      border-radius: 50%;\n",
              "      cursor: pointer;\n",
              "      display: none;\n",
              "      fill: #1967D2;\n",
              "      height: 32px;\n",
              "      padding: 0 0 0 0;\n",
              "      width: 32px;\n",
              "    }\n",
              "\n",
              "    .colab-df-convert:hover {\n",
              "      background-color: #E2EBFA;\n",
              "      box-shadow: 0px 1px 2px rgba(60, 64, 67, 0.3), 0px 1px 3px 1px rgba(60, 64, 67, 0.15);\n",
              "      fill: #174EA6;\n",
              "    }\n",
              "\n",
              "    .colab-df-buttons div {\n",
              "      margin-bottom: 4px;\n",
              "    }\n",
              "\n",
              "    [theme=dark] .colab-df-convert {\n",
              "      background-color: #3B4455;\n",
              "      fill: #D2E3FC;\n",
              "    }\n",
              "\n",
              "    [theme=dark] .colab-df-convert:hover {\n",
              "      background-color: #434B5C;\n",
              "      box-shadow: 0px 1px 3px 1px rgba(0, 0, 0, 0.15);\n",
              "      filter: drop-shadow(0px 1px 2px rgba(0, 0, 0, 0.3));\n",
              "      fill: #FFFFFF;\n",
              "    }\n",
              "  </style>\n",
              "\n",
              "    <script>\n",
              "      const buttonEl =\n",
              "        document.querySelector('#df-d67e28e5-f84a-45cf-a84d-5a133c73046d button.colab-df-convert');\n",
              "      buttonEl.style.display =\n",
              "        google.colab.kernel.accessAllowed ? 'block' : 'none';\n",
              "\n",
              "      async function convertToInteractive(key) {\n",
              "        const element = document.querySelector('#df-d67e28e5-f84a-45cf-a84d-5a133c73046d');\n",
              "        const dataTable =\n",
              "          await google.colab.kernel.invokeFunction('convertToInteractive',\n",
              "                                                    [key], {});\n",
              "        if (!dataTable) return;\n",
              "\n",
              "        const docLinkHtml = 'Like what you see? Visit the ' +\n",
              "          '<a target=\"_blank\" href=https://colab.research.google.com/notebooks/data_table.ipynb>data table notebook</a>'\n",
              "          + ' to learn more about interactive tables.';\n",
              "        element.innerHTML = '';\n",
              "        dataTable['output_type'] = 'display_data';\n",
              "        await google.colab.output.renderOutput(dataTable, element);\n",
              "        const docLink = document.createElement('div');\n",
              "        docLink.innerHTML = docLinkHtml;\n",
              "        element.appendChild(docLink);\n",
              "      }\n",
              "    </script>\n",
              "  </div>\n",
              "\n",
              "\n",
              "<div id=\"df-9b79035a-ae8e-4d1d-99a6-05e422baa792\">\n",
              "  <button class=\"colab-df-quickchart\" onclick=\"quickchart('df-9b79035a-ae8e-4d1d-99a6-05e422baa792')\"\n",
              "            title=\"Suggest charts\"\n",
              "            style=\"display:none;\">\n",
              "\n",
              "<svg xmlns=\"http://www.w3.org/2000/svg\" height=\"24px\"viewBox=\"0 0 24 24\"\n",
              "     width=\"24px\">\n",
              "    <g>\n",
              "        <path d=\"M19 3H5c-1.1 0-2 .9-2 2v14c0 1.1.9 2 2 2h14c1.1 0 2-.9 2-2V5c0-1.1-.9-2-2-2zM9 17H7v-7h2v7zm4 0h-2V7h2v10zm4 0h-2v-4h2v4z\"/>\n",
              "    </g>\n",
              "</svg>\n",
              "  </button>\n",
              "\n",
              "<style>\n",
              "  .colab-df-quickchart {\n",
              "      --bg-color: #E8F0FE;\n",
              "      --fill-color: #1967D2;\n",
              "      --hover-bg-color: #E2EBFA;\n",
              "      --hover-fill-color: #174EA6;\n",
              "      --disabled-fill-color: #AAA;\n",
              "      --disabled-bg-color: #DDD;\n",
              "  }\n",
              "\n",
              "  [theme=dark] .colab-df-quickchart {\n",
              "      --bg-color: #3B4455;\n",
              "      --fill-color: #D2E3FC;\n",
              "      --hover-bg-color: #434B5C;\n",
              "      --hover-fill-color: #FFFFFF;\n",
              "      --disabled-bg-color: #3B4455;\n",
              "      --disabled-fill-color: #666;\n",
              "  }\n",
              "\n",
              "  .colab-df-quickchart {\n",
              "    background-color: var(--bg-color);\n",
              "    border: none;\n",
              "    border-radius: 50%;\n",
              "    cursor: pointer;\n",
              "    display: none;\n",
              "    fill: var(--fill-color);\n",
              "    height: 32px;\n",
              "    padding: 0;\n",
              "    width: 32px;\n",
              "  }\n",
              "\n",
              "  .colab-df-quickchart:hover {\n",
              "    background-color: var(--hover-bg-color);\n",
              "    box-shadow: 0 1px 2px rgba(60, 64, 67, 0.3), 0 1px 3px 1px rgba(60, 64, 67, 0.15);\n",
              "    fill: var(--button-hover-fill-color);\n",
              "  }\n",
              "\n",
              "  .colab-df-quickchart-complete:disabled,\n",
              "  .colab-df-quickchart-complete:disabled:hover {\n",
              "    background-color: var(--disabled-bg-color);\n",
              "    fill: var(--disabled-fill-color);\n",
              "    box-shadow: none;\n",
              "  }\n",
              "\n",
              "  .colab-df-spinner {\n",
              "    border: 2px solid var(--fill-color);\n",
              "    border-color: transparent;\n",
              "    border-bottom-color: var(--fill-color);\n",
              "    animation:\n",
              "      spin 1s steps(1) infinite;\n",
              "  }\n",
              "\n",
              "  @keyframes spin {\n",
              "    0% {\n",
              "      border-color: transparent;\n",
              "      border-bottom-color: var(--fill-color);\n",
              "      border-left-color: var(--fill-color);\n",
              "    }\n",
              "    20% {\n",
              "      border-color: transparent;\n",
              "      border-left-color: var(--fill-color);\n",
              "      border-top-color: var(--fill-color);\n",
              "    }\n",
              "    30% {\n",
              "      border-color: transparent;\n",
              "      border-left-color: var(--fill-color);\n",
              "      border-top-color: var(--fill-color);\n",
              "      border-right-color: var(--fill-color);\n",
              "    }\n",
              "    40% {\n",
              "      border-color: transparent;\n",
              "      border-right-color: var(--fill-color);\n",
              "      border-top-color: var(--fill-color);\n",
              "    }\n",
              "    60% {\n",
              "      border-color: transparent;\n",
              "      border-right-color: var(--fill-color);\n",
              "    }\n",
              "    80% {\n",
              "      border-color: transparent;\n",
              "      border-right-color: var(--fill-color);\n",
              "      border-bottom-color: var(--fill-color);\n",
              "    }\n",
              "    90% {\n",
              "      border-color: transparent;\n",
              "      border-bottom-color: var(--fill-color);\n",
              "    }\n",
              "  }\n",
              "</style>\n",
              "\n",
              "  <script>\n",
              "    async function quickchart(key) {\n",
              "      const quickchartButtonEl =\n",
              "        document.querySelector('#' + key + ' button');\n",
              "      quickchartButtonEl.disabled = true;  // To prevent multiple clicks.\n",
              "      quickchartButtonEl.classList.add('colab-df-spinner');\n",
              "      try {\n",
              "        const charts = await google.colab.kernel.invokeFunction(\n",
              "            'suggestCharts', [key], {});\n",
              "      } catch (error) {\n",
              "        console.error('Error during call to suggestCharts:', error);\n",
              "      }\n",
              "      quickchartButtonEl.classList.remove('colab-df-spinner');\n",
              "      quickchartButtonEl.classList.add('colab-df-quickchart-complete');\n",
              "    }\n",
              "    (() => {\n",
              "      let quickchartButtonEl =\n",
              "        document.querySelector('#df-9b79035a-ae8e-4d1d-99a6-05e422baa792 button');\n",
              "      quickchartButtonEl.style.display =\n",
              "        google.colab.kernel.accessAllowed ? 'block' : 'none';\n",
              "    })();\n",
              "  </script>\n",
              "</div>\n",
              "    </div>\n",
              "  </div>\n"
            ]
          },
          "metadata": {},
          "execution_count": 6
        }
      ]
    },
    {
      "cell_type": "code",
      "source": [
        "# turn string labels into class numbers\n",
        "from sklearn.preprocessing import LabelEncoder\n",
        "from sklearn.preprocessing import OneHotEncoder\n",
        "class_names = [\"jumping_jacks_down\", \"jumping_jacks_up\",\n",
        "               \"pullups_down\", \"pullups_up\",\n",
        "               \"pushups_down\", \"pushups_up\",\n",
        "               \"situp_down\", \"situp_up\",\n",
        "               \"squats_down\", \"squats_up\"]\n",
        "\n",
        "label_encoder = LabelEncoder()\n",
        "labels = label_encoder.fit_transform(labels_data)\n",
        "labels"
      ],
      "metadata": {
        "id": "LwixrNCSEhu5",
        "colab": {
          "base_uri": "https://localhost:8080/"
        },
        "outputId": "e8035c1f-2c84-4fda-f9fe-91e647d79527"
      },
      "execution_count": 7,
      "outputs": [
        {
          "output_type": "execute_result",
          "data": {
            "text/plain": [
              "array([0, 0, 0, ..., 9, 9, 9])"
            ]
          },
          "metadata": {},
          "execution_count": 7
        }
      ]
    },
    {
      "cell_type": "code",
      "source": [
        "# turn all data into tensors\n",
        "distances = torch.from_numpy(distances_data.to_numpy()[:, 1:]).type(torch.float)\n",
        "xyz_distances = torch.from_numpy(xyz_distances_data.to_numpy()[:, 1:]).type(torch.float)\n",
        "angles = torch.from_numpy(angles_data.to_numpy()[:, 1:]).type(torch.float)\n",
        "landmarks = torch.from_numpy(landmarks_data.to_numpy()[:, 1:]).type(torch.float)"
      ],
      "metadata": {
        "id": "5qDe0f6MkVpS"
      },
      "execution_count": 8,
      "outputs": []
    },
    {
      "cell_type": "code",
      "source": [
        "# combine data\n",
        "X = torch.cat(tensors=[distances, xyz_distances, angles, landmarks],\n",
        "                dim=1)\n",
        "# X = landmarks\n",
        "# turn labels into tensor\n",
        "y = torch.from_numpy(labels).type(torch.float)\n",
        "print(f\"X shape: {X.shape}\")\n",
        "print(f\"y shape: {y.shape}\")"
      ],
      "metadata": {
        "colab": {
          "base_uri": "https://localhost:8080/"
        },
        "id": "6ylLgr5ok_0Z",
        "outputId": "fabc28d9-31b9-45ea-9c11-59ca481ce577"
      },
      "execution_count": 9,
      "outputs": [
        {
          "output_type": "stream",
          "name": "stdout",
          "text": [
            "X shape: torch.Size([1372, 170])\n",
            "y shape: torch.Size([1372])\n"
          ]
        }
      ]
    },
    {
      "cell_type": "code",
      "source": [
        "# display first 5 entries\n",
        "import pandas as pd\n",
        "frames = [distances_data, xyz_distances_data, angles_data, landmarks_data]\n",
        "result = pd.concat(frames)\n",
        "\n",
        "result.head()"
      ],
      "metadata": {
        "id": "tIwFdHIcMBRH",
        "colab": {
          "base_uri": "https://localhost:8080/",
          "height": 256
        },
        "outputId": "8b825aef-2960-4512-d6cd-b3feb5e479ec"
      },
      "execution_count": 10,
      "outputs": [
        {
          "output_type": "execute_result",
          "data": {
            "text/plain": [
              "   pose_id  left_shoulder_left_wrist  right_shoulder_right_wrist  \\\n",
              "0        0                 38.423300                   39.855762   \n",
              "1        1                 65.631510                   65.847110   \n",
              "2        2                 69.661674                   69.360990   \n",
              "3        3                 52.437600                   55.870330   \n",
              "4        4                 30.867628                   43.872227   \n",
              "\n",
              "   left_hip_left_ankle  right_hip_right_ankle  left_hip_left_wrist  \\\n",
              "0            62.640720              57.871964            15.052525   \n",
              "1            55.631300              53.715553           106.099660   \n",
              "2            55.770256              53.510430           110.819440   \n",
              "3            57.758915              57.445232            97.575290   \n",
              "4            67.210240              65.753365            25.952522   \n",
              "\n",
              "   right_hip_right_wrist  left_shoulder_left_ankle  \\\n",
              "0              20.688140                 107.80279   \n",
              "1              99.581940                 108.05316   \n",
              "2             109.959590                 103.96043   \n",
              "3              94.503000                 119.82603   \n",
              "4              44.106445                 105.16242   \n",
              "\n",
              "   right_shoulder_right_ankle  left_hip_right_wrist  ...  z_left_heel  \\\n",
              "0                  101.256220             25.964552  ...          NaN   \n",
              "1                  108.368080             99.120370  ...          NaN   \n",
              "2                  102.363594            109.834720  ...          NaN   \n",
              "3                  118.113594             92.485230  ...          NaN   \n",
              "4                  102.763930             44.958740  ...          NaN   \n",
              "\n",
              "   x_right_heel  y_right_heel  z_right_heel  x_left_foot_index  \\\n",
              "0           NaN           NaN           NaN                NaN   \n",
              "1           NaN           NaN           NaN                NaN   \n",
              "2           NaN           NaN           NaN                NaN   \n",
              "3           NaN           NaN           NaN                NaN   \n",
              "4           NaN           NaN           NaN                NaN   \n",
              "\n",
              "   y_left_foot_index  z_left_foot_index  x_right_foot_index  \\\n",
              "0                NaN                NaN                 NaN   \n",
              "1                NaN                NaN                 NaN   \n",
              "2                NaN                NaN                 NaN   \n",
              "3                NaN                NaN                 NaN   \n",
              "4                NaN                NaN                 NaN   \n",
              "\n",
              "   y_right_foot_index  z_right_foot_index  \n",
              "0                 NaN                 NaN  \n",
              "1                 NaN                 NaN  \n",
              "2                 NaN                 NaN  \n",
              "3                 NaN                 NaN  \n",
              "4                 NaN                 NaN  \n",
              "\n",
              "[5 rows x 171 columns]"
            ],
            "text/html": [
              "\n",
              "  <div id=\"df-26863827-805b-44af-9110-08f3e98ac18a\" class=\"colab-df-container\">\n",
              "    <div>\n",
              "<style scoped>\n",
              "    .dataframe tbody tr th:only-of-type {\n",
              "        vertical-align: middle;\n",
              "    }\n",
              "\n",
              "    .dataframe tbody tr th {\n",
              "        vertical-align: top;\n",
              "    }\n",
              "\n",
              "    .dataframe thead th {\n",
              "        text-align: right;\n",
              "    }\n",
              "</style>\n",
              "<table border=\"1\" class=\"dataframe\">\n",
              "  <thead>\n",
              "    <tr style=\"text-align: right;\">\n",
              "      <th></th>\n",
              "      <th>pose_id</th>\n",
              "      <th>left_shoulder_left_wrist</th>\n",
              "      <th>right_shoulder_right_wrist</th>\n",
              "      <th>left_hip_left_ankle</th>\n",
              "      <th>right_hip_right_ankle</th>\n",
              "      <th>left_hip_left_wrist</th>\n",
              "      <th>right_hip_right_wrist</th>\n",
              "      <th>left_shoulder_left_ankle</th>\n",
              "      <th>right_shoulder_right_ankle</th>\n",
              "      <th>left_hip_right_wrist</th>\n",
              "      <th>...</th>\n",
              "      <th>z_left_heel</th>\n",
              "      <th>x_right_heel</th>\n",
              "      <th>y_right_heel</th>\n",
              "      <th>z_right_heel</th>\n",
              "      <th>x_left_foot_index</th>\n",
              "      <th>y_left_foot_index</th>\n",
              "      <th>z_left_foot_index</th>\n",
              "      <th>x_right_foot_index</th>\n",
              "      <th>y_right_foot_index</th>\n",
              "      <th>z_right_foot_index</th>\n",
              "    </tr>\n",
              "  </thead>\n",
              "  <tbody>\n",
              "    <tr>\n",
              "      <th>0</th>\n",
              "      <td>0</td>\n",
              "      <td>38.423300</td>\n",
              "      <td>39.855762</td>\n",
              "      <td>62.640720</td>\n",
              "      <td>57.871964</td>\n",
              "      <td>15.052525</td>\n",
              "      <td>20.688140</td>\n",
              "      <td>107.80279</td>\n",
              "      <td>101.256220</td>\n",
              "      <td>25.964552</td>\n",
              "      <td>...</td>\n",
              "      <td>NaN</td>\n",
              "      <td>NaN</td>\n",
              "      <td>NaN</td>\n",
              "      <td>NaN</td>\n",
              "      <td>NaN</td>\n",
              "      <td>NaN</td>\n",
              "      <td>NaN</td>\n",
              "      <td>NaN</td>\n",
              "      <td>NaN</td>\n",
              "      <td>NaN</td>\n",
              "    </tr>\n",
              "    <tr>\n",
              "      <th>1</th>\n",
              "      <td>1</td>\n",
              "      <td>65.631510</td>\n",
              "      <td>65.847110</td>\n",
              "      <td>55.631300</td>\n",
              "      <td>53.715553</td>\n",
              "      <td>106.099660</td>\n",
              "      <td>99.581940</td>\n",
              "      <td>108.05316</td>\n",
              "      <td>108.368080</td>\n",
              "      <td>99.120370</td>\n",
              "      <td>...</td>\n",
              "      <td>NaN</td>\n",
              "      <td>NaN</td>\n",
              "      <td>NaN</td>\n",
              "      <td>NaN</td>\n",
              "      <td>NaN</td>\n",
              "      <td>NaN</td>\n",
              "      <td>NaN</td>\n",
              "      <td>NaN</td>\n",
              "      <td>NaN</td>\n",
              "      <td>NaN</td>\n",
              "    </tr>\n",
              "    <tr>\n",
              "      <th>2</th>\n",
              "      <td>2</td>\n",
              "      <td>69.661674</td>\n",
              "      <td>69.360990</td>\n",
              "      <td>55.770256</td>\n",
              "      <td>53.510430</td>\n",
              "      <td>110.819440</td>\n",
              "      <td>109.959590</td>\n",
              "      <td>103.96043</td>\n",
              "      <td>102.363594</td>\n",
              "      <td>109.834720</td>\n",
              "      <td>...</td>\n",
              "      <td>NaN</td>\n",
              "      <td>NaN</td>\n",
              "      <td>NaN</td>\n",
              "      <td>NaN</td>\n",
              "      <td>NaN</td>\n",
              "      <td>NaN</td>\n",
              "      <td>NaN</td>\n",
              "      <td>NaN</td>\n",
              "      <td>NaN</td>\n",
              "      <td>NaN</td>\n",
              "    </tr>\n",
              "    <tr>\n",
              "      <th>3</th>\n",
              "      <td>3</td>\n",
              "      <td>52.437600</td>\n",
              "      <td>55.870330</td>\n",
              "      <td>57.758915</td>\n",
              "      <td>57.445232</td>\n",
              "      <td>97.575290</td>\n",
              "      <td>94.503000</td>\n",
              "      <td>119.82603</td>\n",
              "      <td>118.113594</td>\n",
              "      <td>92.485230</td>\n",
              "      <td>...</td>\n",
              "      <td>NaN</td>\n",
              "      <td>NaN</td>\n",
              "      <td>NaN</td>\n",
              "      <td>NaN</td>\n",
              "      <td>NaN</td>\n",
              "      <td>NaN</td>\n",
              "      <td>NaN</td>\n",
              "      <td>NaN</td>\n",
              "      <td>NaN</td>\n",
              "      <td>NaN</td>\n",
              "    </tr>\n",
              "    <tr>\n",
              "      <th>4</th>\n",
              "      <td>4</td>\n",
              "      <td>30.867628</td>\n",
              "      <td>43.872227</td>\n",
              "      <td>67.210240</td>\n",
              "      <td>65.753365</td>\n",
              "      <td>25.952522</td>\n",
              "      <td>44.106445</td>\n",
              "      <td>105.16242</td>\n",
              "      <td>102.763930</td>\n",
              "      <td>44.958740</td>\n",
              "      <td>...</td>\n",
              "      <td>NaN</td>\n",
              "      <td>NaN</td>\n",
              "      <td>NaN</td>\n",
              "      <td>NaN</td>\n",
              "      <td>NaN</td>\n",
              "      <td>NaN</td>\n",
              "      <td>NaN</td>\n",
              "      <td>NaN</td>\n",
              "      <td>NaN</td>\n",
              "      <td>NaN</td>\n",
              "    </tr>\n",
              "  </tbody>\n",
              "</table>\n",
              "<p>5 rows × 171 columns</p>\n",
              "</div>\n",
              "    <div class=\"colab-df-buttons\">\n",
              "\n",
              "  <div class=\"colab-df-container\">\n",
              "    <button class=\"colab-df-convert\" onclick=\"convertToInteractive('df-26863827-805b-44af-9110-08f3e98ac18a')\"\n",
              "            title=\"Convert this dataframe to an interactive table.\"\n",
              "            style=\"display:none;\">\n",
              "\n",
              "  <svg xmlns=\"http://www.w3.org/2000/svg\" height=\"24px\" viewBox=\"0 -960 960 960\">\n",
              "    <path d=\"M120-120v-720h720v720H120Zm60-500h600v-160H180v160Zm220 220h160v-160H400v160Zm0 220h160v-160H400v160ZM180-400h160v-160H180v160Zm440 0h160v-160H620v160ZM180-180h160v-160H180v160Zm440 0h160v-160H620v160Z\"/>\n",
              "  </svg>\n",
              "    </button>\n",
              "\n",
              "  <style>\n",
              "    .colab-df-container {\n",
              "      display:flex;\n",
              "      gap: 12px;\n",
              "    }\n",
              "\n",
              "    .colab-df-convert {\n",
              "      background-color: #E8F0FE;\n",
              "      border: none;\n",
              "      border-radius: 50%;\n",
              "      cursor: pointer;\n",
              "      display: none;\n",
              "      fill: #1967D2;\n",
              "      height: 32px;\n",
              "      padding: 0 0 0 0;\n",
              "      width: 32px;\n",
              "    }\n",
              "\n",
              "    .colab-df-convert:hover {\n",
              "      background-color: #E2EBFA;\n",
              "      box-shadow: 0px 1px 2px rgba(60, 64, 67, 0.3), 0px 1px 3px 1px rgba(60, 64, 67, 0.15);\n",
              "      fill: #174EA6;\n",
              "    }\n",
              "\n",
              "    .colab-df-buttons div {\n",
              "      margin-bottom: 4px;\n",
              "    }\n",
              "\n",
              "    [theme=dark] .colab-df-convert {\n",
              "      background-color: #3B4455;\n",
              "      fill: #D2E3FC;\n",
              "    }\n",
              "\n",
              "    [theme=dark] .colab-df-convert:hover {\n",
              "      background-color: #434B5C;\n",
              "      box-shadow: 0px 1px 3px 1px rgba(0, 0, 0, 0.15);\n",
              "      filter: drop-shadow(0px 1px 2px rgba(0, 0, 0, 0.3));\n",
              "      fill: #FFFFFF;\n",
              "    }\n",
              "  </style>\n",
              "\n",
              "    <script>\n",
              "      const buttonEl =\n",
              "        document.querySelector('#df-26863827-805b-44af-9110-08f3e98ac18a button.colab-df-convert');\n",
              "      buttonEl.style.display =\n",
              "        google.colab.kernel.accessAllowed ? 'block' : 'none';\n",
              "\n",
              "      async function convertToInteractive(key) {\n",
              "        const element = document.querySelector('#df-26863827-805b-44af-9110-08f3e98ac18a');\n",
              "        const dataTable =\n",
              "          await google.colab.kernel.invokeFunction('convertToInteractive',\n",
              "                                                    [key], {});\n",
              "        if (!dataTable) return;\n",
              "\n",
              "        const docLinkHtml = 'Like what you see? Visit the ' +\n",
              "          '<a target=\"_blank\" href=https://colab.research.google.com/notebooks/data_table.ipynb>data table notebook</a>'\n",
              "          + ' to learn more about interactive tables.';\n",
              "        element.innerHTML = '';\n",
              "        dataTable['output_type'] = 'display_data';\n",
              "        await google.colab.output.renderOutput(dataTable, element);\n",
              "        const docLink = document.createElement('div');\n",
              "        docLink.innerHTML = docLinkHtml;\n",
              "        element.appendChild(docLink);\n",
              "      }\n",
              "    </script>\n",
              "  </div>\n",
              "\n",
              "\n",
              "<div id=\"df-f19f31eb-448d-4d43-aed4-761f9f8ef633\">\n",
              "  <button class=\"colab-df-quickchart\" onclick=\"quickchart('df-f19f31eb-448d-4d43-aed4-761f9f8ef633')\"\n",
              "            title=\"Suggest charts\"\n",
              "            style=\"display:none;\">\n",
              "\n",
              "<svg xmlns=\"http://www.w3.org/2000/svg\" height=\"24px\"viewBox=\"0 0 24 24\"\n",
              "     width=\"24px\">\n",
              "    <g>\n",
              "        <path d=\"M19 3H5c-1.1 0-2 .9-2 2v14c0 1.1.9 2 2 2h14c1.1 0 2-.9 2-2V5c0-1.1-.9-2-2-2zM9 17H7v-7h2v7zm4 0h-2V7h2v10zm4 0h-2v-4h2v4z\"/>\n",
              "    </g>\n",
              "</svg>\n",
              "  </button>\n",
              "\n",
              "<style>\n",
              "  .colab-df-quickchart {\n",
              "      --bg-color: #E8F0FE;\n",
              "      --fill-color: #1967D2;\n",
              "      --hover-bg-color: #E2EBFA;\n",
              "      --hover-fill-color: #174EA6;\n",
              "      --disabled-fill-color: #AAA;\n",
              "      --disabled-bg-color: #DDD;\n",
              "  }\n",
              "\n",
              "  [theme=dark] .colab-df-quickchart {\n",
              "      --bg-color: #3B4455;\n",
              "      --fill-color: #D2E3FC;\n",
              "      --hover-bg-color: #434B5C;\n",
              "      --hover-fill-color: #FFFFFF;\n",
              "      --disabled-bg-color: #3B4455;\n",
              "      --disabled-fill-color: #666;\n",
              "  }\n",
              "\n",
              "  .colab-df-quickchart {\n",
              "    background-color: var(--bg-color);\n",
              "    border: none;\n",
              "    border-radius: 50%;\n",
              "    cursor: pointer;\n",
              "    display: none;\n",
              "    fill: var(--fill-color);\n",
              "    height: 32px;\n",
              "    padding: 0;\n",
              "    width: 32px;\n",
              "  }\n",
              "\n",
              "  .colab-df-quickchart:hover {\n",
              "    background-color: var(--hover-bg-color);\n",
              "    box-shadow: 0 1px 2px rgba(60, 64, 67, 0.3), 0 1px 3px 1px rgba(60, 64, 67, 0.15);\n",
              "    fill: var(--button-hover-fill-color);\n",
              "  }\n",
              "\n",
              "  .colab-df-quickchart-complete:disabled,\n",
              "  .colab-df-quickchart-complete:disabled:hover {\n",
              "    background-color: var(--disabled-bg-color);\n",
              "    fill: var(--disabled-fill-color);\n",
              "    box-shadow: none;\n",
              "  }\n",
              "\n",
              "  .colab-df-spinner {\n",
              "    border: 2px solid var(--fill-color);\n",
              "    border-color: transparent;\n",
              "    border-bottom-color: var(--fill-color);\n",
              "    animation:\n",
              "      spin 1s steps(1) infinite;\n",
              "  }\n",
              "\n",
              "  @keyframes spin {\n",
              "    0% {\n",
              "      border-color: transparent;\n",
              "      border-bottom-color: var(--fill-color);\n",
              "      border-left-color: var(--fill-color);\n",
              "    }\n",
              "    20% {\n",
              "      border-color: transparent;\n",
              "      border-left-color: var(--fill-color);\n",
              "      border-top-color: var(--fill-color);\n",
              "    }\n",
              "    30% {\n",
              "      border-color: transparent;\n",
              "      border-left-color: var(--fill-color);\n",
              "      border-top-color: var(--fill-color);\n",
              "      border-right-color: var(--fill-color);\n",
              "    }\n",
              "    40% {\n",
              "      border-color: transparent;\n",
              "      border-right-color: var(--fill-color);\n",
              "      border-top-color: var(--fill-color);\n",
              "    }\n",
              "    60% {\n",
              "      border-color: transparent;\n",
              "      border-right-color: var(--fill-color);\n",
              "    }\n",
              "    80% {\n",
              "      border-color: transparent;\n",
              "      border-right-color: var(--fill-color);\n",
              "      border-bottom-color: var(--fill-color);\n",
              "    }\n",
              "    90% {\n",
              "      border-color: transparent;\n",
              "      border-bottom-color: var(--fill-color);\n",
              "    }\n",
              "  }\n",
              "</style>\n",
              "\n",
              "  <script>\n",
              "    async function quickchart(key) {\n",
              "      const quickchartButtonEl =\n",
              "        document.querySelector('#' + key + ' button');\n",
              "      quickchartButtonEl.disabled = true;  // To prevent multiple clicks.\n",
              "      quickchartButtonEl.classList.add('colab-df-spinner');\n",
              "      try {\n",
              "        const charts = await google.colab.kernel.invokeFunction(\n",
              "            'suggestCharts', [key], {});\n",
              "      } catch (error) {\n",
              "        console.error('Error during call to suggestCharts:', error);\n",
              "      }\n",
              "      quickchartButtonEl.classList.remove('colab-df-spinner');\n",
              "      quickchartButtonEl.classList.add('colab-df-quickchart-complete');\n",
              "    }\n",
              "    (() => {\n",
              "      let quickchartButtonEl =\n",
              "        document.querySelector('#df-f19f31eb-448d-4d43-aed4-761f9f8ef633 button');\n",
              "      quickchartButtonEl.style.display =\n",
              "        google.colab.kernel.accessAllowed ? 'block' : 'none';\n",
              "    })();\n",
              "  </script>\n",
              "</div>\n",
              "    </div>\n",
              "  </div>\n"
            ]
          },
          "metadata": {},
          "execution_count": 10
        }
      ]
    },
    {
      "cell_type": "code",
      "source": [
        "type(X), X.dtype, y.dtype"
      ],
      "metadata": {
        "id": "KYZUPWM1MJAN",
        "colab": {
          "base_uri": "https://localhost:8080/"
        },
        "outputId": "5ceeca46-508d-4336-abf2-5463bdd1be04"
      },
      "execution_count": 11,
      "outputs": [
        {
          "output_type": "execute_result",
          "data": {
            "text/plain": [
              "(torch.Tensor, torch.float32, torch.float32)"
            ]
          },
          "metadata": {},
          "execution_count": 11
        }
      ]
    },
    {
      "cell_type": "code",
      "source": [
        "# split data into training and test sets\n",
        "from sklearn.model_selection import train_test_split\n",
        "X_train, X_test, y_train, y_test = train_test_split(X,\n",
        "                                                    y,\n",
        "                                                    test_size=0.2, # percentage of test\n",
        "                                                    # shuffle=True,\n",
        "                                                    random_state=42)\n",
        "print(f\"X_train shape: {X_train.shape}, X_test shape: {X_test.shape}\")\n",
        "print(f\"y_train shape: {y_train.shape}, y_test shape: {y_test.shape}\")"
      ],
      "metadata": {
        "id": "wLDPex4mNPqc",
        "colab": {
          "base_uri": "https://localhost:8080/"
        },
        "outputId": "c88476ce-c7d5-463c-b182-dbab1cc9603c"
      },
      "execution_count": 12,
      "outputs": [
        {
          "output_type": "stream",
          "name": "stdout",
          "text": [
            "X_train shape: torch.Size([1097, 170]), X_test shape: torch.Size([275, 170])\n",
            "y_train shape: torch.Size([1097]), y_test shape: torch.Size([275])\n"
          ]
        }
      ]
    },
    {
      "cell_type": "markdown",
      "source": [
        "# 2. Create the Model"
      ],
      "metadata": {
        "id": "Bbq_K4BSNUMj"
      }
    },
    {
      "cell_type": "code",
      "source": [
        "import torch\n",
        "from torch import nn\n",
        "\n",
        "# device agnostic code\n",
        "device = \"cuda\" if torch.cuda.is_available() else \"cpu\"\n",
        "device"
      ],
      "metadata": {
        "id": "VLf_mos8NZfr",
        "colab": {
          "base_uri": "https://localhost:8080/",
          "height": 35
        },
        "outputId": "2a44d54e-56de-433f-849c-26089191e914"
      },
      "execution_count": 13,
      "outputs": [
        {
          "output_type": "execute_result",
          "data": {
            "text/plain": [
              "'cpu'"
            ],
            "application/vnd.google.colaboratory.intrinsic+json": {
              "type": "string"
            }
          },
          "metadata": {},
          "execution_count": 13
        }
      ]
    },
    {
      "cell_type": "code",
      "source": [
        "class ExerciseModelV0(nn.Module):\n",
        "  def __init__(self, input_features, output_features, hidden_units=8):\n",
        "    super().__init__()\n",
        "\n",
        "    self.layer_stack = nn.Sequential(\n",
        "        nn.Linear(in_features=input_features, out_features=hidden_units),\n",
        "        nn.ReLU(),\n",
        "        nn.Linear(in_features=hidden_units, out_features=hidden_units),\n",
        "        nn.ReLU(),\n",
        "        nn.Linear(in_features=hidden_units, out_features=output_features)\n",
        "    )\n",
        "\n",
        "  def forward(self, x: torch.Tensor) -> torch.Tensor:\n",
        "    return self.layer_stack(x)\n",
        "\n",
        "exercise_model_0 = ExerciseModelV0(input_features=X.size(dim=1),\n",
        "                                   hidden_units=200,\n",
        "                                   output_features=10).to(device)\n",
        "exercise_model_0"
      ],
      "metadata": {
        "id": "UE02gwEyNd7g",
        "colab": {
          "base_uri": "https://localhost:8080/"
        },
        "outputId": "2878dc48-45e1-402a-d660-afb899e57a65"
      },
      "execution_count": 14,
      "outputs": [
        {
          "output_type": "execute_result",
          "data": {
            "text/plain": [
              "ExerciseModelV0(\n",
              "  (layer_stack): Sequential(\n",
              "    (0): Linear(in_features=170, out_features=200, bias=True)\n",
              "    (1): ReLU()\n",
              "    (2): Linear(in_features=200, out_features=200, bias=True)\n",
              "    (3): ReLU()\n",
              "    (4): Linear(in_features=200, out_features=10, bias=True)\n",
              "  )\n",
              ")"
            ]
          },
          "metadata": {},
          "execution_count": 14
        }
      ]
    },
    {
      "cell_type": "markdown",
      "source": [
        "# 3. Train the model"
      ],
      "metadata": {
        "id": "4oDxhGhwRATX"
      }
    },
    {
      "cell_type": "markdown",
      "source": [
        "## 3.1 Functions and Setup"
      ],
      "metadata": {
        "id": "_GVfq3BgSAo8"
      }
    },
    {
      "cell_type": "code",
      "source": [
        "# set model version\n",
        "model = exercise_model_0"
      ],
      "metadata": {
        "id": "v1ADiF63tUxa"
      },
      "execution_count": 15,
      "outputs": []
    },
    {
      "cell_type": "code",
      "source": [
        "# calculate accuracy\n",
        "def accuracy_fn(y_true, y_pred):\n",
        "  correct = torch.eq(y_true, y_pred).sum().item()\n",
        "  acc = (correct/len(y_pred)) * 100\n",
        "  return acc"
      ],
      "metadata": {
        "id": "Ck3t1BtNSGI8"
      },
      "execution_count": 16,
      "outputs": []
    },
    {
      "cell_type": "code",
      "source": [
        "# loss function and optimizer\n",
        "loss_fn = nn.CrossEntropyLoss()\n",
        "\n",
        "optimizer = torch.optim.SGD(params=model.parameters(),\n",
        "                            lr=0.01)"
      ],
      "metadata": {
        "id": "Tl1PRxllSVj7"
      },
      "execution_count": 17,
      "outputs": []
    },
    {
      "cell_type": "markdown",
      "source": [
        "## 3.2 Training"
      ],
      "metadata": {
        "id": "qKVeLWEyoAfh"
      }
    },
    {
      "cell_type": "code",
      "source": [
        "# fit the multi-class model to the data\n",
        "# torch.manual_seed(42)\n",
        "# torch.cuda.manual_seed(42)\n",
        "\n",
        "epochs = 1050\n",
        "\n",
        "X_train, y_train = X_train.to(device), y_train.to(device)\n",
        "X_test, y_test = X_test.to(device), y_test.to(device)\n",
        "\n",
        "for epoch in range(epochs):\n",
        "  model.train()\n",
        "\n",
        "  y_logits = model(X_train)\n",
        "  y_pred = torch.softmax(y_logits, dim=1).argmax(dim=1)\n",
        "\n",
        "  loss = loss_fn(y_logits, y_train.type(torch.LongTensor))\n",
        "  acc = accuracy_fn(y_true=y_train,\n",
        "                    y_pred=y_pred)\n",
        "\n",
        "  optimizer.zero_grad()\n",
        "  loss.backward()\n",
        "  optimizer.step()\n",
        "\n",
        "  ### Testing\n",
        "  model.eval()\n",
        "  with torch.inference_mode():\n",
        "    test_logits = model(X_test)\n",
        "    test_pred = torch.softmax(test_logits, dim=1).argmax(dim=1)\n",
        "\n",
        "    test_loss = loss_fn(test_logits, y_test.type(torch.LongTensor))\n",
        "    test_acc = accuracy_fn(y_true=y_test,\n",
        "                      y_pred=test_pred)\n",
        "\n",
        "    if epoch % 50 == 0:\n",
        "      print(f\"Epoch: {epoch} | Loss: {loss:.5f}, Accuracy: {acc:.2f}% | Test loss: {test_loss:.5f}, Test accuracy: {test_acc:.2f}%\")"
      ],
      "metadata": {
        "id": "AdFHLZX0TIDO",
        "colab": {
          "base_uri": "https://localhost:8080/"
        },
        "outputId": "317e7f7b-df09-464c-d512-2c3b525b5096"
      },
      "execution_count": 18,
      "outputs": [
        {
          "output_type": "stream",
          "name": "stdout",
          "text": [
            "Epoch: 0 | Loss: 7.49102, Accuracy: 8.11% | Test loss: 22.31142, Test accuracy: 15.64%\n",
            "Epoch: 50 | Loss: 0.49967, Accuracy: 83.77% | Test loss: 0.68600, Test accuracy: 74.18%\n",
            "Epoch: 100 | Loss: 0.37211, Accuracy: 87.69% | Test loss: 0.61429, Test accuracy: 77.45%\n",
            "Epoch: 150 | Loss: 0.28810, Accuracy: 90.79% | Test loss: 0.59548, Test accuracy: 78.55%\n",
            "Epoch: 200 | Loss: 0.22873, Accuracy: 93.53% | Test loss: 0.56172, Test accuracy: 78.55%\n",
            "Epoch: 250 | Loss: 0.23369, Accuracy: 91.80% | Test loss: 0.57886, Test accuracy: 77.45%\n",
            "Epoch: 300 | Loss: 0.16745, Accuracy: 95.35% | Test loss: 0.53593, Test accuracy: 81.82%\n",
            "Epoch: 350 | Loss: 0.15513, Accuracy: 95.99% | Test loss: 0.55168, Test accuracy: 78.55%\n",
            "Epoch: 400 | Loss: 0.12795, Accuracy: 96.35% | Test loss: 0.52093, Test accuracy: 80.73%\n",
            "Epoch: 450 | Loss: 0.10481, Accuracy: 97.27% | Test loss: 0.51067, Test accuracy: 82.91%\n",
            "Epoch: 500 | Loss: 0.09681, Accuracy: 97.45% | Test loss: 0.51388, Test accuracy: 83.27%\n",
            "Epoch: 550 | Loss: 0.09446, Accuracy: 97.54% | Test loss: 0.51660, Test accuracy: 83.64%\n",
            "Epoch: 600 | Loss: 0.08212, Accuracy: 97.90% | Test loss: 0.51548, Test accuracy: 83.64%\n",
            "Epoch: 650 | Loss: 0.07193, Accuracy: 98.27% | Test loss: 0.51973, Test accuracy: 83.64%\n",
            "Epoch: 700 | Loss: 0.06564, Accuracy: 98.36% | Test loss: 0.52019, Test accuracy: 83.27%\n",
            "Epoch: 750 | Loss: 0.06145, Accuracy: 98.36% | Test loss: 0.52338, Test accuracy: 83.64%\n",
            "Epoch: 800 | Loss: 0.05738, Accuracy: 98.72% | Test loss: 0.52617, Test accuracy: 83.27%\n",
            "Epoch: 850 | Loss: 0.06613, Accuracy: 98.18% | Test loss: 0.55818, Test accuracy: 82.91%\n",
            "Epoch: 900 | Loss: 0.04876, Accuracy: 99.09% | Test loss: 0.53229, Test accuracy: 83.64%\n",
            "Epoch: 950 | Loss: 0.04666, Accuracy: 99.09% | Test loss: 0.53433, Test accuracy: 83.64%\n",
            "Epoch: 1000 | Loss: 0.04524, Accuracy: 99.36% | Test loss: 0.53524, Test accuracy: 83.27%\n"
          ]
        }
      ]
    },
    {
      "cell_type": "markdown",
      "source": [
        "# 4. Evaluate the model\n",
        "\n",
        "1. Make predictions with trained model on test dataset\n",
        "2. Make a confusion matrix with `torchmetrics.ConfusionMatrix`\n",
        "3. Plot the confusion using `mlxtend.plotting.plot_confusion_matrix()`\n",
        "torchmetrics: https://torchmetrics.readthedocs.io/en/v0.10.2/classification/confusion_matrix.html"
      ],
      "metadata": {
        "id": "Tncj9shWV4QY"
      }
    },
    {
      "cell_type": "code",
      "source": [
        "from tqdm.auto import tqdm\n",
        "\n",
        "# 1. make predictions with trained model\n",
        "y_preds = []\n",
        "model.eval()\n",
        "with torch.inference_mode():\n",
        "  y_logit = model(X)\n",
        "  y_pred = torch.softmax(y_logit.squeeze(), dim=0).argmax(dim=1)\n",
        "\n",
        "  print(y_pred)"
      ],
      "metadata": {
        "colab": {
          "base_uri": "https://localhost:8080/"
        },
        "id": "aM0MNDqMomPL",
        "outputId": "55bc76a3-5075-473c-e808-215420403f99"
      },
      "execution_count": 19,
      "outputs": [
        {
          "output_type": "stream",
          "name": "stdout",
          "text": [
            "tensor([0, 0, 0,  ..., 9, 9, 9])\n"
          ]
        }
      ]
    },
    {
      "cell_type": "code",
      "source": [
        "# import libraries for model evaluation\n",
        "try:\n",
        "  import torchmetrics, mlxtend\n",
        "  print(f\"mlxtend version: {mlxtend.__version__}\")\n",
        "  assert int(mlxtend.__version__.split(\".\")[1] >= 19, \"mlxtend version should be 19 or higher\")\n",
        "except:\n",
        "  !pip install -q torchmetrics -U mlxtend\n",
        "  import torchmetrics, mlxtend\n",
        "  print(f\"mlxtend version: {mlxtend.__version__}\")"
      ],
      "metadata": {
        "colab": {
          "base_uri": "https://localhost:8080/"
        },
        "id": "I6fEm3VhoVrP",
        "outputId": "2f2bd2b0-8f81-44ba-8de8-389db2e44762"
      },
      "execution_count": 20,
      "outputs": [
        {
          "output_type": "stream",
          "name": "stdout",
          "text": [
            "\u001b[2K     \u001b[90m━━━━━━━━━━━━━━━━━━━━━━━━━━━━━━━━━━━━━━━━\u001b[0m \u001b[32m840.2/840.2 kB\u001b[0m \u001b[31m6.5 MB/s\u001b[0m eta \u001b[36m0:00:00\u001b[0m\n",
            "\u001b[2K     \u001b[90m━━━━━━━━━━━━━━━━━━━━━━━━━━━━━━━━━━━━━━━━\u001b[0m \u001b[32m1.4/1.4 MB\u001b[0m \u001b[31m13.0 MB/s\u001b[0m eta \u001b[36m0:00:00\u001b[0m\n",
            "\u001b[?25hmlxtend version: 0.23.1\n"
          ]
        }
      ]
    },
    {
      "cell_type": "code",
      "source": [
        "from torchmetrics import ConfusionMatrix\n",
        "from mlxtend.plotting import plot_confusion_matrix\n",
        "\n",
        "# 2. setup confusion instance and compare predictions to targets\n",
        "confmat = ConfusionMatrix(num_classes=len(class_names),\n",
        "                          task=\"multiclass\")\n",
        "confmat_tensor = confmat(preds=y_pred,\n",
        "                         target=y)\n",
        "\n",
        "# 3. plot confusion matrix\n",
        "fig, ax = plot_confusion_matrix(\n",
        "    conf_mat=confmat_tensor.numpy(),\n",
        "    class_names=class_names,\n",
        "    figsize=(10, 7)\n",
        ")"
      ],
      "metadata": {
        "id": "JZDziNQ4oKOn",
        "colab": {
          "base_uri": "https://localhost:8080/",
          "height": 716
        },
        "outputId": "db0fc766-68d3-439d-9f35-b4daa61961bb"
      },
      "execution_count": 21,
      "outputs": [
        {
          "output_type": "display_data",
          "data": {
            "text/plain": [
              "<Figure size 1000x700 with 1 Axes>"
            ],
            "image/png": "[encoded data removed]"
          },
          "metadata": {}
        }
      ]
    },
    {
      "cell_type": "markdown",
      "source": [
        "# 5. Save the model"
      ],
      "metadata": {
        "id": "mfgBnRaSuTPY"
      }
    },
    {
      "cell_type": "code",
      "source": [
        "# saving a model\n",
        "from pathlib import Path\n",
        "# 1. create models directory\n",
        "MODEL_PATH = Path(\"models\")\n",
        "MODEL_PATH.mkdir(parents=True, exist_ok=True)\n",
        "\n",
        "# 2. create model save path\n",
        "MODEL_NAME = \"classificationModel.pth\"\n",
        "MODEL_SAVE_PATH = MODEL_PATH / MODEL_NAME\n",
        "\n",
        "# 3. save model state dict\n",
        "print(f\"Saving model to {MODEL_SAVE_PATH}\")\n",
        "torch.save(obj=model.state_dict(), f=MODEL_SAVE_PATH)"
      ],
      "metadata": {
        "id": "AHpNisu8uWF1",
        "colab": {
          "base_uri": "https://localhost:8080/"
        },
        "outputId": "ebdcbf44-4ab9-4670-9376-df6a35ad66c2"
      },
      "execution_count": 22,
      "outputs": [
        {
          "output_type": "stream",
          "name": "stdout",
          "text": [
            "Saving model to models/classificationModel.pth\n"
          ]
        }
      ]
    },
    {
      "cell_type": "code",
      "source": [
        "# loading a model in PyTorch\n",
        "# since we saved our model's 'state_dict()' (just the parameters) rather then the entire model, we'll create a new instance of our model class and load the saved 'state_dict()' into that\n",
        "\n",
        "# instantiate a new instance\n",
        "loaded_model = LinearRegressionModel()\n",
        "\n",
        "# load saved state_dict of model_0\n",
        "loaded_model.load_state_dict(torch.load(f=MODEL_SAVE_PATH))"
      ],
      "metadata": {
        "id": "CCilFGDYCHn2",
        "colab": {
          "base_uri": "https://localhost:8080/",
          "height": 250
        },
        "outputId": "2d806807-b950-47d4-8fec-ef2b07274e69"
      },
      "execution_count": 23,
      "outputs": [
        {
          "output_type": "error",
          "ename": "NameError",
          "evalue": "name 'LinearRegressionModel' is not defined",
          "traceback": [
            "\u001b[0;31m---------------------------------------------------------------------------\u001b[0m",
            "\u001b[0;31mNameError\u001b[0m                                 Traceback (most recent call last)",
            "\u001b[0;32m<ipython-input-23-d1dd73be0cfb>\u001b[0m in \u001b[0;36m<cell line: 5>\u001b[0;34m()\u001b[0m\n\u001b[1;32m      3\u001b[0m \u001b[0;34m\u001b[0m\u001b[0m\n\u001b[1;32m      4\u001b[0m \u001b[0;31m# instantiate a new instance\u001b[0m\u001b[0;34m\u001b[0m\u001b[0;34m\u001b[0m\u001b[0m\n\u001b[0;32m----> 5\u001b[0;31m \u001b[0mloaded_model\u001b[0m \u001b[0;34m=\u001b[0m \u001b[0mLinearRegressionModel\u001b[0m\u001b[0;34m(\u001b[0m\u001b[0;34m)\u001b[0m\u001b[0;34m\u001b[0m\u001b[0;34m\u001b[0m\u001b[0m\n\u001b[0m\u001b[1;32m      6\u001b[0m \u001b[0;34m\u001b[0m\u001b[0m\n\u001b[1;32m      7\u001b[0m \u001b[0;31m# load saved state_dict of model_0\u001b[0m\u001b[0;34m\u001b[0m\u001b[0;34m\u001b[0m\u001b[0m\n",
            "\u001b[0;31mNameError\u001b[0m: name 'LinearRegressionModel' is not defined"
          ]
        }
      ]
    },
    {
      "cell_type": "code",
      "source": [
        "# make predictions with loaded model\n",
        "loaded_model.eval()\n",
        "with torch.inference_mode():\n",
        "  loaded_model_preds = loaded_model(X_test)"
      ],
      "metadata": {
        "id": "RPZXSfnVCS3r"
      },
      "execution_count": null,
      "outputs": []
    }
  ]
}