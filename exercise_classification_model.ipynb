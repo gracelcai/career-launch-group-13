{
  "nbformat": 4,
  "nbformat_minor": 0,
  "metadata": {
    "colab": {
      "provenance": [],
      "include_colab_link": true
    },
    "kernelspec": {
      "name": "python3",
      "display_name": "Python 3"
    },
    "language_info": {
      "name": "python"
    }
  },
  "cells": [
    {
      "cell_type": "markdown",
      "metadata": {
        "id": "view-in-github",
        "colab_type": "text"
      },
      "source": [
        "<a href=\"https://colab.research.google.com/github/gracelcai/career-launch-group-13/blob/main/exercise_classification_model.ipynb\" target=\"_parent\"><img src=\"https://colab.research.google.com/assets/colab-badge.svg\" alt=\"Open In Colab\"/></a>"
      ]
    },
    {
      "cell_type": "markdown",
      "source": [
        "# 0. Import PyTorch and other libraries"
      ],
      "metadata": {
        "id": "f6VmywDCLS4v"
      }
    },
    {
      "cell_type": "code",
      "source": [
        "import torch\n",
        "import numpy as np"
      ],
      "metadata": {
        "id": "F-V_PQFUGXm1"
      },
      "execution_count": null,
      "outputs": []
    },
    {
      "cell_type": "markdown",
      "source": [
        "# 1. Download and process Kaggle data\n",
        "We are using the Kaggle dataset of landmarks, distances, and angles of 5 different exercise.\n",
        "\n",
        "For the dataset and more info, see: https://www.kaggle.com/competitions/fitness-pose-classification/discussion"
      ],
      "metadata": {
        "id": "UcYXXMWvDg6o"
      }
    },
    {
      "cell_type": "code",
      "source": [
        "!pip install -q opendatasets"
      ],
      "metadata": {
        "id": "v-rJ2rklD9FP"
      },
      "execution_count": null,
      "outputs": []
    },
    {
      "cell_type": "code",
      "source": [
        "# upload kaggle json file\n",
        "from google.colab import files\n",
        "uploaded = files.upload()"
      ],
      "metadata": {
        "colab": {
          "base_uri": "https://localhost:8080/",
          "height": 73
        },
        "id": "lL6EZqXFkAol",
        "outputId": "45a00302-0e91-4934-cd1c-414e2f002abc"
      },
      "execution_count": null,
      "outputs": [
        {
          "output_type": "display_data",
          "data": {
            "text/plain": [
              "<IPython.core.display.HTML object>"
            ],
            "text/html": [
              "\n",
              "     <input type=\"file\" id=\"files-e962d1c3-10cb-4836-9f71-d115522d2eb0\" name=\"files[]\" multiple disabled\n",
              "        style=\"border:none\" />\n",
              "     <output id=\"result-e962d1c3-10cb-4836-9f71-d115522d2eb0\">\n",
              "      Upload widget is only available when the cell has been executed in the\n",
              "      current browser session. Please rerun this cell to enable.\n",
              "      </output>\n",
              "      <script>// Copyright 2017 Google LLC\n",
              "//\n",
              "// Licensed under the Apache License, Version 2.0 (the \"License\");\n",
              "// you may not use this file except in compliance with the License.\n",
              "// You may obtain a copy of the License at\n",
              "//\n",
              "//      http://www.apache.org/licenses/LICENSE-2.0\n",
              "//\n",
              "// Unless required by applicable law or agreed to in writing, software\n",
              "// distributed under the License is distributed on an \"AS IS\" BASIS,\n",
              "// WITHOUT WARRANTIES OR CONDITIONS OF ANY KIND, either express or implied.\n",
              "// See the License for the specific language governing permissions and\n",
              "// limitations under the License.\n",
              "\n",
              "/**\n",
              " * @fileoverview Helpers for google.colab Python module.\n",
              " */\n",
              "(function(scope) {\n",
              "function span(text, styleAttributes = {}) {\n",
              "  const element = document.createElement('span');\n",
              "  element.textContent = text;\n",
              "  for (const key of Object.keys(styleAttributes)) {\n",
              "    element.style[key] = styleAttributes[key];\n",
              "  }\n",
              "  return element;\n",
              "}\n",
              "\n",
              "// Max number of bytes which will be uploaded at a time.\n",
              "const MAX_PAYLOAD_SIZE = 100 * 1024;\n",
              "\n",
              "function _uploadFiles(inputId, outputId) {\n",
              "  const steps = uploadFilesStep(inputId, outputId);\n",
              "  const outputElement = document.getElementById(outputId);\n",
              "  // Cache steps on the outputElement to make it available for the next call\n",
              "  // to uploadFilesContinue from Python.\n",
              "  outputElement.steps = steps;\n",
              "\n",
              "  return _uploadFilesContinue(outputId);\n",
              "}\n",
              "\n",
              "// This is roughly an async generator (not supported in the browser yet),\n",
              "// where there are multiple asynchronous steps and the Python side is going\n",
              "// to poll for completion of each step.\n",
              "// This uses a Promise to block the python side on completion of each step,\n",
              "// then passes the result of the previous step as the input to the next step.\n",
              "function _uploadFilesContinue(outputId) {\n",
              "  const outputElement = document.getElementById(outputId);\n",
              "  const steps = outputElement.steps;\n",
              "\n",
              "  const next = steps.next(outputElement.lastPromiseValue);\n",
              "  return Promise.resolve(next.value.promise).then((value) => {\n",
              "    // Cache the last promise value to make it available to the next\n",
              "    // step of the generator.\n",
              "    outputElement.lastPromiseValue = value;\n",
              "    return next.value.response;\n",
              "  });\n",
              "}\n",
              "\n",
              "/**\n",
              " * Generator function which is called between each async step of the upload\n",
              " * process.\n",
              " * @param {string} inputId Element ID of the input file picker element.\n",
              " * @param {string} outputId Element ID of the output display.\n",
              " * @return {!Iterable<!Object>} Iterable of next steps.\n",
              " */\n",
              "function* uploadFilesStep(inputId, outputId) {\n",
              "  const inputElement = document.getElementById(inputId);\n",
              "  inputElement.disabled = false;\n",
              "\n",
              "  const outputElement = document.getElementById(outputId);\n",
              "  outputElement.innerHTML = '';\n",
              "\n",
              "  const pickedPromise = new Promise((resolve) => {\n",
              "    inputElement.addEventListener('change', (e) => {\n",
              "      resolve(e.target.files);\n",
              "    });\n",
              "  });\n",
              "\n",
              "  const cancel = document.createElement('button');\n",
              "  inputElement.parentElement.appendChild(cancel);\n",
              "  cancel.textContent = 'Cancel upload';\n",
              "  const cancelPromise = new Promise((resolve) => {\n",
              "    cancel.onclick = () => {\n",
              "      resolve(null);\n",
              "    };\n",
              "  });\n",
              "\n",
              "  // Wait for the user to pick the files.\n",
              "  const files = yield {\n",
              "    promise: Promise.race([pickedPromise, cancelPromise]),\n",
              "    response: {\n",
              "      action: 'starting',\n",
              "    }\n",
              "  };\n",
              "\n",
              "  cancel.remove();\n",
              "\n",
              "  // Disable the input element since further picks are not allowed.\n",
              "  inputElement.disabled = true;\n",
              "\n",
              "  if (!files) {\n",
              "    return {\n",
              "      response: {\n",
              "        action: 'complete',\n",
              "      }\n",
              "    };\n",
              "  }\n",
              "\n",
              "  for (const file of files) {\n",
              "    const li = document.createElement('li');\n",
              "    li.append(span(file.name, {fontWeight: 'bold'}));\n",
              "    li.append(span(\n",
              "        `(${file.type || 'n/a'}) - ${file.size} bytes, ` +\n",
              "        `last modified: ${\n",
              "            file.lastModifiedDate ? file.lastModifiedDate.toLocaleDateString() :\n",
              "                                    'n/a'} - `));\n",
              "    const percent = span('0% done');\n",
              "    li.appendChild(percent);\n",
              "\n",
              "    outputElement.appendChild(li);\n",
              "\n",
              "    const fileDataPromise = new Promise((resolve) => {\n",
              "      const reader = new FileReader();\n",
              "      reader.onload = (e) => {\n",
              "        resolve(e.target.result);\n",
              "      };\n",
              "      reader.readAsArrayBuffer(file);\n",
              "    });\n",
              "    // Wait for the data to be ready.\n",
              "    let fileData = yield {\n",
              "      promise: fileDataPromise,\n",
              "      response: {\n",
              "        action: 'continue',\n",
              "      }\n",
              "    };\n",
              "\n",
              "    // Use a chunked sending to avoid message size limits. See b/62115660.\n",
              "    let position = 0;\n",
              "    do {\n",
              "      const length = Math.min(fileData.byteLength - position, MAX_PAYLOAD_SIZE);\n",
              "      const chunk = new Uint8Array(fileData, position, length);\n",
              "      position += length;\n",
              "\n",
              "      const base64 = btoa(String.fromCharCode.apply(null, chunk));\n",
              "      yield {\n",
              "        response: {\n",
              "          action: 'append',\n",
              "          file: file.name,\n",
              "          data: base64,\n",
              "        },\n",
              "      };\n",
              "\n",
              "      let percentDone = fileData.byteLength === 0 ?\n",
              "          100 :\n",
              "          Math.round((position / fileData.byteLength) * 100);\n",
              "      percent.textContent = `${percentDone}% done`;\n",
              "\n",
              "    } while (position < fileData.byteLength);\n",
              "  }\n",
              "\n",
              "  // All done.\n",
              "  yield {\n",
              "    response: {\n",
              "      action: 'complete',\n",
              "    }\n",
              "  };\n",
              "}\n",
              "\n",
              "scope.google = scope.google || {};\n",
              "scope.google.colab = scope.google.colab || {};\n",
              "scope.google.colab._files = {\n",
              "  _uploadFiles,\n",
              "  _uploadFilesContinue,\n",
              "};\n",
              "})(self);\n",
              "</script> "
            ]
          },
          "metadata": {}
        },
        {
          "output_type": "stream",
          "name": "stdout",
          "text": [
            "Saving kaggle.json to kaggle.json\n"
          ]
        }
      ]
    },
    {
      "cell_type": "code",
      "source": [
        "import opendatasets as od\n",
        "import pandas as pd\n",
        "\n",
        "od.download('https://www.kaggle.com/datasets/muhannadtuameh/exercise-recognition/data') # insert ypu kaggle  username and key\n",
        "\n",
        "distances_data = pd.read_csv('/content/exercise-recognition/3d_distances.csv')\n",
        "angles_data = pd.read_csv('/content/exercise-recognition/angles.csv')\n",
        "landmarks_data = pd.read_csv('/content/exercise-recognition/landmarks.csv')\n",
        "xyz_distances_data = pd.read_csv('/content/exercise-recognition/xyz_distances.csv')\n",
        "\n",
        "labels_data = pd.read_csv('/content/exercise-recognition/labels.csv')['pose'].tolist()"
      ],
      "metadata": {
        "colab": {
          "base_uri": "https://localhost:8080/"
        },
        "id": "ajujrB8oEeVl",
        "outputId": "b0255c1f-3f66-45e1-aff8-300222c46694"
      },
      "execution_count": null,
      "outputs": [
        {
          "output_type": "stream",
          "name": "stdout",
          "text": [
            "Downloading exercise-recognition.zip to ./exercise-recognition\n"
          ]
        },
        {
          "output_type": "stream",
          "name": "stderr",
          "text": [
            "100%|██████████| 1.07M/1.07M [00:00<00:00, 82.8MB/s]"
          ]
        },
        {
          "output_type": "stream",
          "name": "stdout",
          "text": [
            "\n"
          ]
        },
        {
          "output_type": "stream",
          "name": "stderr",
          "text": [
            "\n"
          ]
        }
      ]
    },
    {
      "cell_type": "code",
      "source": [
        "distances_data.shape"
      ],
      "metadata": {
        "colab": {
          "base_uri": "https://localhost:8080/"
        },
        "id": "5QCJmoEp1fq6",
        "outputId": "f7e6b627-dff2-477c-a824-94ac82642a18"
      },
      "execution_count": null,
      "outputs": [
        {
          "output_type": "execute_result",
          "data": {
            "text/plain": [
              "(1372, 17)"
            ]
          },
          "metadata": {},
          "execution_count": 71
        }
      ]
    },
    {
      "cell_type": "code",
      "source": [
        "distances_data.head()"
      ],
      "metadata": {
        "id": "kGBankhKK6Uw",
        "colab": {
          "base_uri": "https://localhost:8080/",
          "height": 226
        },
        "outputId": "26913763-e54c-4e96-9624-2e28866893be"
      },
      "execution_count": null,
      "outputs": [
        {
          "output_type": "execute_result",
          "data": {
            "text/plain": [
              "   pose_id  left_shoulder_left_wrist  right_shoulder_right_wrist  \\\n",
              "0        0                 38.423300                   39.855762   \n",
              "1        1                 65.631510                   65.847110   \n",
              "2        2                 69.661674                   69.360990   \n",
              "3        3                 52.437600                   55.870330   \n",
              "4        4                 30.867628                   43.872227   \n",
              "\n",
              "   left_hip_left_ankle  right_hip_right_ankle  left_hip_left_wrist  \\\n",
              "0            62.640720              57.871964            15.052525   \n",
              "1            55.631300              53.715553           106.099660   \n",
              "2            55.770256              53.510430           110.819440   \n",
              "3            57.758915              57.445232            97.575290   \n",
              "4            67.210240              65.753365            25.952522   \n",
              "\n",
              "   right_hip_right_wrist  left_shoulder_left_ankle  \\\n",
              "0              20.688140                 107.80279   \n",
              "1              99.581940                 108.05316   \n",
              "2             109.959590                 103.96043   \n",
              "3              94.503000                 119.82603   \n",
              "4              44.106445                 105.16242   \n",
              "\n",
              "   right_shoulder_right_ankle  left_hip_right_wrist  right_hip_left_wrist  \\\n",
              "0                  101.256220             25.964552             20.129477   \n",
              "1                  108.368080             99.120370            111.111630   \n",
              "2                  102.363594            109.834720            115.859040   \n",
              "3                  118.113594             92.485230            105.289980   \n",
              "4                  102.763930             44.958740             31.483402   \n",
              "\n",
              "   left_elbow_right_elbow  left_knee_right_knee  left_wrist_right_wrist  \\\n",
              "0               21.891373              9.572068               23.628513   \n",
              "1               34.513107             13.026263               39.510204   \n",
              "2               37.486490             14.406796               43.056570   \n",
              "3               38.071854             12.797712               50.756527   \n",
              "4               22.992490              6.848766               36.983727   \n",
              "\n",
              "   left_ankle_right_ankle  left_hip_avg_left_wrist_left_ankle  \\\n",
              "0                8.817467                           24.935423   \n",
              "1               10.478581                           70.999214   \n",
              "2                9.337358                           75.719420   \n",
              "3                9.881827                           60.924847   \n",
              "4                5.223047                           23.287280   \n",
              "\n",
              "   right_hip_avg_right_wrist_right_ankle  \n",
              "0                              21.897507  \n",
              "1                              66.304980  \n",
              "2                              73.916530  \n",
              "3                              59.798840  \n",
              "4                              19.660568  "
            ],
            "text/html": [
              "\n",
              "  <div id=\"df-3606f5d5-8fc2-4023-923d-eeef3f7f978b\" class=\"colab-df-container\">\n",
              "    <div>\n",
              "<style scoped>\n",
              "    .dataframe tbody tr th:only-of-type {\n",
              "        vertical-align: middle;\n",
              "    }\n",
              "\n",
              "    .dataframe tbody tr th {\n",
              "        vertical-align: top;\n",
              "    }\n",
              "\n",
              "    .dataframe thead th {\n",
              "        text-align: right;\n",
              "    }\n",
              "</style>\n",
              "<table border=\"1\" class=\"dataframe\">\n",
              "  <thead>\n",
              "    <tr style=\"text-align: right;\">\n",
              "      <th></th>\n",
              "      <th>pose_id</th>\n",
              "      <th>left_shoulder_left_wrist</th>\n",
              "      <th>right_shoulder_right_wrist</th>\n",
              "      <th>left_hip_left_ankle</th>\n",
              "      <th>right_hip_right_ankle</th>\n",
              "      <th>left_hip_left_wrist</th>\n",
              "      <th>right_hip_right_wrist</th>\n",
              "      <th>left_shoulder_left_ankle</th>\n",
              "      <th>right_shoulder_right_ankle</th>\n",
              "      <th>left_hip_right_wrist</th>\n",
              "      <th>right_hip_left_wrist</th>\n",
              "      <th>left_elbow_right_elbow</th>\n",
              "      <th>left_knee_right_knee</th>\n",
              "      <th>left_wrist_right_wrist</th>\n",
              "      <th>left_ankle_right_ankle</th>\n",
              "      <th>left_hip_avg_left_wrist_left_ankle</th>\n",
              "      <th>right_hip_avg_right_wrist_right_ankle</th>\n",
              "    </tr>\n",
              "  </thead>\n",
              "  <tbody>\n",
              "    <tr>\n",
              "      <th>0</th>\n",
              "      <td>0</td>\n",
              "      <td>38.423300</td>\n",
              "      <td>39.855762</td>\n",
              "      <td>62.640720</td>\n",
              "      <td>57.871964</td>\n",
              "      <td>15.052525</td>\n",
              "      <td>20.688140</td>\n",
              "      <td>107.80279</td>\n",
              "      <td>101.256220</td>\n",
              "      <td>25.964552</td>\n",
              "      <td>20.129477</td>\n",
              "      <td>21.891373</td>\n",
              "      <td>9.572068</td>\n",
              "      <td>23.628513</td>\n",
              "      <td>8.817467</td>\n",
              "      <td>24.935423</td>\n",
              "      <td>21.897507</td>\n",
              "    </tr>\n",
              "    <tr>\n",
              "      <th>1</th>\n",
              "      <td>1</td>\n",
              "      <td>65.631510</td>\n",
              "      <td>65.847110</td>\n",
              "      <td>55.631300</td>\n",
              "      <td>53.715553</td>\n",
              "      <td>106.099660</td>\n",
              "      <td>99.581940</td>\n",
              "      <td>108.05316</td>\n",
              "      <td>108.368080</td>\n",
              "      <td>99.120370</td>\n",
              "      <td>111.111630</td>\n",
              "      <td>34.513107</td>\n",
              "      <td>13.026263</td>\n",
              "      <td>39.510204</td>\n",
              "      <td>10.478581</td>\n",
              "      <td>70.999214</td>\n",
              "      <td>66.304980</td>\n",
              "    </tr>\n",
              "    <tr>\n",
              "      <th>2</th>\n",
              "      <td>2</td>\n",
              "      <td>69.661674</td>\n",
              "      <td>69.360990</td>\n",
              "      <td>55.770256</td>\n",
              "      <td>53.510430</td>\n",
              "      <td>110.819440</td>\n",
              "      <td>109.959590</td>\n",
              "      <td>103.96043</td>\n",
              "      <td>102.363594</td>\n",
              "      <td>109.834720</td>\n",
              "      <td>115.859040</td>\n",
              "      <td>37.486490</td>\n",
              "      <td>14.406796</td>\n",
              "      <td>43.056570</td>\n",
              "      <td>9.337358</td>\n",
              "      <td>75.719420</td>\n",
              "      <td>73.916530</td>\n",
              "    </tr>\n",
              "    <tr>\n",
              "      <th>3</th>\n",
              "      <td>3</td>\n",
              "      <td>52.437600</td>\n",
              "      <td>55.870330</td>\n",
              "      <td>57.758915</td>\n",
              "      <td>57.445232</td>\n",
              "      <td>97.575290</td>\n",
              "      <td>94.503000</td>\n",
              "      <td>119.82603</td>\n",
              "      <td>118.113594</td>\n",
              "      <td>92.485230</td>\n",
              "      <td>105.289980</td>\n",
              "      <td>38.071854</td>\n",
              "      <td>12.797712</td>\n",
              "      <td>50.756527</td>\n",
              "      <td>9.881827</td>\n",
              "      <td>60.924847</td>\n",
              "      <td>59.798840</td>\n",
              "    </tr>\n",
              "    <tr>\n",
              "      <th>4</th>\n",
              "      <td>4</td>\n",
              "      <td>30.867628</td>\n",
              "      <td>43.872227</td>\n",
              "      <td>67.210240</td>\n",
              "      <td>65.753365</td>\n",
              "      <td>25.952522</td>\n",
              "      <td>44.106445</td>\n",
              "      <td>105.16242</td>\n",
              "      <td>102.763930</td>\n",
              "      <td>44.958740</td>\n",
              "      <td>31.483402</td>\n",
              "      <td>22.992490</td>\n",
              "      <td>6.848766</td>\n",
              "      <td>36.983727</td>\n",
              "      <td>5.223047</td>\n",
              "      <td>23.287280</td>\n",
              "      <td>19.660568</td>\n",
              "    </tr>\n",
              "  </tbody>\n",
              "</table>\n",
              "</div>\n",
              "    <div class=\"colab-df-buttons\">\n",
              "\n",
              "  <div class=\"colab-df-container\">\n",
              "    <button class=\"colab-df-convert\" onclick=\"convertToInteractive('df-3606f5d5-8fc2-4023-923d-eeef3f7f978b')\"\n",
              "            title=\"Convert this dataframe to an interactive table.\"\n",
              "            style=\"display:none;\">\n",
              "\n",
              "  <svg xmlns=\"http://www.w3.org/2000/svg\" height=\"24px\" viewBox=\"0 -960 960 960\">\n",
              "    <path d=\"M120-120v-720h720v720H120Zm60-500h600v-160H180v160Zm220 220h160v-160H400v160Zm0 220h160v-160H400v160ZM180-400h160v-160H180v160Zm440 0h160v-160H620v160ZM180-180h160v-160H180v160Zm440 0h160v-160H620v160Z\"/>\n",
              "  </svg>\n",
              "    </button>\n",
              "\n",
              "  <style>\n",
              "    .colab-df-container {\n",
              "      display:flex;\n",
              "      gap: 12px;\n",
              "    }\n",
              "\n",
              "    .colab-df-convert {\n",
              "      background-color: #E8F0FE;\n",
              "      border: none;\n",
              "      border-radius: 50%;\n",
              "      cursor: pointer;\n",
              "      display: none;\n",
              "      fill: #1967D2;\n",
              "      height: 32px;\n",
              "      padding: 0 0 0 0;\n",
              "      width: 32px;\n",
              "    }\n",
              "\n",
              "    .colab-df-convert:hover {\n",
              "      background-color: #E2EBFA;\n",
              "      box-shadow: 0px 1px 2px rgba(60, 64, 67, 0.3), 0px 1px 3px 1px rgba(60, 64, 67, 0.15);\n",
              "      fill: #174EA6;\n",
              "    }\n",
              "\n",
              "    .colab-df-buttons div {\n",
              "      margin-bottom: 4px;\n",
              "    }\n",
              "\n",
              "    [theme=dark] .colab-df-convert {\n",
              "      background-color: #3B4455;\n",
              "      fill: #D2E3FC;\n",
              "    }\n",
              "\n",
              "    [theme=dark] .colab-df-convert:hover {\n",
              "      background-color: #434B5C;\n",
              "      box-shadow: 0px 1px 3px 1px rgba(0, 0, 0, 0.15);\n",
              "      filter: drop-shadow(0px 1px 2px rgba(0, 0, 0, 0.3));\n",
              "      fill: #FFFFFF;\n",
              "    }\n",
              "  </style>\n",
              "\n",
              "    <script>\n",
              "      const buttonEl =\n",
              "        document.querySelector('#df-3606f5d5-8fc2-4023-923d-eeef3f7f978b button.colab-df-convert');\n",
              "      buttonEl.style.display =\n",
              "        google.colab.kernel.accessAllowed ? 'block' : 'none';\n",
              "\n",
              "      async function convertToInteractive(key) {\n",
              "        const element = document.querySelector('#df-3606f5d5-8fc2-4023-923d-eeef3f7f978b');\n",
              "        const dataTable =\n",
              "          await google.colab.kernel.invokeFunction('convertToInteractive',\n",
              "                                                    [key], {});\n",
              "        if (!dataTable) return;\n",
              "\n",
              "        const docLinkHtml = 'Like what you see? Visit the ' +\n",
              "          '<a target=\"_blank\" href=https://colab.research.google.com/notebooks/data_table.ipynb>data table notebook</a>'\n",
              "          + ' to learn more about interactive tables.';\n",
              "        element.innerHTML = '';\n",
              "        dataTable['output_type'] = 'display_data';\n",
              "        await google.colab.output.renderOutput(dataTable, element);\n",
              "        const docLink = document.createElement('div');\n",
              "        docLink.innerHTML = docLinkHtml;\n",
              "        element.appendChild(docLink);\n",
              "      }\n",
              "    </script>\n",
              "  </div>\n",
              "\n",
              "\n",
              "<div id=\"df-a16aa4ab-e96f-49be-ba6f-130ad9d2f8a8\">\n",
              "  <button class=\"colab-df-quickchart\" onclick=\"quickchart('df-a16aa4ab-e96f-49be-ba6f-130ad9d2f8a8')\"\n",
              "            title=\"Suggest charts\"\n",
              "            style=\"display:none;\">\n",
              "\n",
              "<svg xmlns=\"http://www.w3.org/2000/svg\" height=\"24px\"viewBox=\"0 0 24 24\"\n",
              "     width=\"24px\">\n",
              "    <g>\n",
              "        <path d=\"M19 3H5c-1.1 0-2 .9-2 2v14c0 1.1.9 2 2 2h14c1.1 0 2-.9 2-2V5c0-1.1-.9-2-2-2zM9 17H7v-7h2v7zm4 0h-2V7h2v10zm4 0h-2v-4h2v4z\"/>\n",
              "    </g>\n",
              "</svg>\n",
              "  </button>\n",
              "\n",
              "<style>\n",
              "  .colab-df-quickchart {\n",
              "      --bg-color: #E8F0FE;\n",
              "      --fill-color: #1967D2;\n",
              "      --hover-bg-color: #E2EBFA;\n",
              "      --hover-fill-color: #174EA6;\n",
              "      --disabled-fill-color: #AAA;\n",
              "      --disabled-bg-color: #DDD;\n",
              "  }\n",
              "\n",
              "  [theme=dark] .colab-df-quickchart {\n",
              "      --bg-color: #3B4455;\n",
              "      --fill-color: #D2E3FC;\n",
              "      --hover-bg-color: #434B5C;\n",
              "      --hover-fill-color: #FFFFFF;\n",
              "      --disabled-bg-color: #3B4455;\n",
              "      --disabled-fill-color: #666;\n",
              "  }\n",
              "\n",
              "  .colab-df-quickchart {\n",
              "    background-color: var(--bg-color);\n",
              "    border: none;\n",
              "    border-radius: 50%;\n",
              "    cursor: pointer;\n",
              "    display: none;\n",
              "    fill: var(--fill-color);\n",
              "    height: 32px;\n",
              "    padding: 0;\n",
              "    width: 32px;\n",
              "  }\n",
              "\n",
              "  .colab-df-quickchart:hover {\n",
              "    background-color: var(--hover-bg-color);\n",
              "    box-shadow: 0 1px 2px rgba(60, 64, 67, 0.3), 0 1px 3px 1px rgba(60, 64, 67, 0.15);\n",
              "    fill: var(--button-hover-fill-color);\n",
              "  }\n",
              "\n",
              "  .colab-df-quickchart-complete:disabled,\n",
              "  .colab-df-quickchart-complete:disabled:hover {\n",
              "    background-color: var(--disabled-bg-color);\n",
              "    fill: var(--disabled-fill-color);\n",
              "    box-shadow: none;\n",
              "  }\n",
              "\n",
              "  .colab-df-spinner {\n",
              "    border: 2px solid var(--fill-color);\n",
              "    border-color: transparent;\n",
              "    border-bottom-color: var(--fill-color);\n",
              "    animation:\n",
              "      spin 1s steps(1) infinite;\n",
              "  }\n",
              "\n",
              "  @keyframes spin {\n",
              "    0% {\n",
              "      border-color: transparent;\n",
              "      border-bottom-color: var(--fill-color);\n",
              "      border-left-color: var(--fill-color);\n",
              "    }\n",
              "    20% {\n",
              "      border-color: transparent;\n",
              "      border-left-color: var(--fill-color);\n",
              "      border-top-color: var(--fill-color);\n",
              "    }\n",
              "    30% {\n",
              "      border-color: transparent;\n",
              "      border-left-color: var(--fill-color);\n",
              "      border-top-color: var(--fill-color);\n",
              "      border-right-color: var(--fill-color);\n",
              "    }\n",
              "    40% {\n",
              "      border-color: transparent;\n",
              "      border-right-color: var(--fill-color);\n",
              "      border-top-color: var(--fill-color);\n",
              "    }\n",
              "    60% {\n",
              "      border-color: transparent;\n",
              "      border-right-color: var(--fill-color);\n",
              "    }\n",
              "    80% {\n",
              "      border-color: transparent;\n",
              "      border-right-color: var(--fill-color);\n",
              "      border-bottom-color: var(--fill-color);\n",
              "    }\n",
              "    90% {\n",
              "      border-color: transparent;\n",
              "      border-bottom-color: var(--fill-color);\n",
              "    }\n",
              "  }\n",
              "</style>\n",
              "\n",
              "  <script>\n",
              "    async function quickchart(key) {\n",
              "      const quickchartButtonEl =\n",
              "        document.querySelector('#' + key + ' button');\n",
              "      quickchartButtonEl.disabled = true;  // To prevent multiple clicks.\n",
              "      quickchartButtonEl.classList.add('colab-df-spinner');\n",
              "      try {\n",
              "        const charts = await google.colab.kernel.invokeFunction(\n",
              "            'suggestCharts', [key], {});\n",
              "      } catch (error) {\n",
              "        console.error('Error during call to suggestCharts:', error);\n",
              "      }\n",
              "      quickchartButtonEl.classList.remove('colab-df-spinner');\n",
              "      quickchartButtonEl.classList.add('colab-df-quickchart-complete');\n",
              "    }\n",
              "    (() => {\n",
              "      let quickchartButtonEl =\n",
              "        document.querySelector('#df-a16aa4ab-e96f-49be-ba6f-130ad9d2f8a8 button');\n",
              "      quickchartButtonEl.style.display =\n",
              "        google.colab.kernel.accessAllowed ? 'block' : 'none';\n",
              "    })();\n",
              "  </script>\n",
              "</div>\n",
              "    </div>\n",
              "  </div>\n"
            ]
          },
          "metadata": {},
          "execution_count": 70
        }
      ]
    },
    {
      "cell_type": "code",
      "source": [
        "# turn string labels into class numbers\n",
        "from sklearn.preprocessing import LabelEncoder\n",
        "from sklearn.preprocessing import OneHotEncoder\n",
        "class_names = [\"pushups_up\", \"pushups_down\", \"pullups_up\", \"pullups_down\", \"jumping_jacks_up\", \"jumping_jacks_down\", \"situp_up\", \"situp_down\", \"squats_up\", \"squats_down\"]\n",
        "\n",
        "label_encoder = LabelEncoder()\n",
        "labels = label_encoder.fit_transform(labels_data)\n",
        "labels"
      ],
      "metadata": {
        "id": "LwixrNCSEhu5",
        "colab": {
          "base_uri": "https://localhost:8080/"
        },
        "outputId": "a8b8e08e-c003-4a57-fb2e-c545471a89fe"
      },
      "execution_count": null,
      "outputs": [
        {
          "output_type": "execute_result",
          "data": {
            "text/plain": [
              "array([0, 0, 0, ..., 9, 9, 9])"
            ]
          },
          "metadata": {},
          "execution_count": 10
        }
      ]
    },
    {
      "cell_type": "code",
      "source": [
        "# turn all data into tensors\n",
        "distances = torch.from_numpy(distances_data.to_numpy()[:, 1:]).type(torch.float)\n",
        "xyz_distances = torch.from_numpy(xyz_distances_data.to_numpy()[:, 1:]).type(torch.float)\n",
        "angles = torch.from_numpy(angles_data.to_numpy()[:, 1:]).type(torch.float)\n",
        "landmarks = torch.from_numpy(landmarks_data.to_numpy()[:, 1:]).type(torch.float)"
      ],
      "metadata": {
        "id": "5qDe0f6MkVpS"
      },
      "execution_count": null,
      "outputs": []
    },
    {
      "cell_type": "code",
      "source": [
        "# combine data\n",
        "X = torch.cat(tensors=[distances, xyz_distances, angles, landmarks],\n",
        "                dim=1)\n",
        "# X = landmarks\n",
        "# turn labels into tensor\n",
        "y = torch.from_numpy(labels).type(torch.float)\n",
        "print(f\"X shape: {X.shape}\")\n",
        "print(f\"y shape: {y.shape}\")"
      ],
      "metadata": {
        "colab": {
          "base_uri": "https://localhost:8080/"
        },
        "id": "6ylLgr5ok_0Z",
        "outputId": "d22d8633-e575-4abf-bc93-2110bbf3679d"
      },
      "execution_count": null,
      "outputs": [
        {
          "output_type": "stream",
          "name": "stdout",
          "text": [
            "X shape: torch.Size([1372, 170])\n",
            "y shape: torch.Size([1372])\n"
          ]
        }
      ]
    },
    {
      "cell_type": "code",
      "source": [
        "# display first 5 entries\n",
        "import pandas as pd\n",
        "frames = [distances_data, xyz_distances_data, angles_data, landmarks_data]\n",
        "result = pd.concat(frames)\n",
        "\n",
        "result.head()"
      ],
      "metadata": {
        "id": "tIwFdHIcMBRH",
        "colab": {
          "base_uri": "https://localhost:8080/",
          "height": 256
        },
        "outputId": "5316e936-1cd2-415a-f8a2-929bc884bc5f"
      },
      "execution_count": null,
      "outputs": [
        {
          "output_type": "execute_result",
          "data": {
            "text/plain": [
              "   pose_id  left_shoulder_left_wrist  right_shoulder_right_wrist  \\\n",
              "0        0                 38.423300                   39.855762   \n",
              "1        1                 65.631510                   65.847110   \n",
              "2        2                 69.661674                   69.360990   \n",
              "3        3                 52.437600                   55.870330   \n",
              "4        4                 30.867628                   43.872227   \n",
              "\n",
              "   left_hip_left_ankle  right_hip_right_ankle  left_hip_left_wrist  \\\n",
              "0            62.640720              57.871964            15.052525   \n",
              "1            55.631300              53.715553           106.099660   \n",
              "2            55.770256              53.510430           110.819440   \n",
              "3            57.758915              57.445232            97.575290   \n",
              "4            67.210240              65.753365            25.952522   \n",
              "\n",
              "   right_hip_right_wrist  left_shoulder_left_ankle  \\\n",
              "0              20.688140                 107.80279   \n",
              "1              99.581940                 108.05316   \n",
              "2             109.959590                 103.96043   \n",
              "3              94.503000                 119.82603   \n",
              "4              44.106445                 105.16242   \n",
              "\n",
              "   right_shoulder_right_ankle  left_hip_right_wrist  ...  z_left_heel  \\\n",
              "0                  101.256220             25.964552  ...          NaN   \n",
              "1                  108.368080             99.120370  ...          NaN   \n",
              "2                  102.363594            109.834720  ...          NaN   \n",
              "3                  118.113594             92.485230  ...          NaN   \n",
              "4                  102.763930             44.958740  ...          NaN   \n",
              "\n",
              "   x_right_heel  y_right_heel  z_right_heel  x_left_foot_index  \\\n",
              "0           NaN           NaN           NaN                NaN   \n",
              "1           NaN           NaN           NaN                NaN   \n",
              "2           NaN           NaN           NaN                NaN   \n",
              "3           NaN           NaN           NaN                NaN   \n",
              "4           NaN           NaN           NaN                NaN   \n",
              "\n",
              "   y_left_foot_index  z_left_foot_index  x_right_foot_index  \\\n",
              "0                NaN                NaN                 NaN   \n",
              "1                NaN                NaN                 NaN   \n",
              "2                NaN                NaN                 NaN   \n",
              "3                NaN                NaN                 NaN   \n",
              "4                NaN                NaN                 NaN   \n",
              "\n",
              "   y_right_foot_index  z_right_foot_index  \n",
              "0                 NaN                 NaN  \n",
              "1                 NaN                 NaN  \n",
              "2                 NaN                 NaN  \n",
              "3                 NaN                 NaN  \n",
              "4                 NaN                 NaN  \n",
              "\n",
              "[5 rows x 171 columns]"
            ],
            "text/html": [
              "\n",
              "  <div id=\"df-71cbd179-ac97-422c-aa12-c13e6d7bbc83\" class=\"colab-df-container\">\n",
              "    <div>\n",
              "<style scoped>\n",
              "    .dataframe tbody tr th:only-of-type {\n",
              "        vertical-align: middle;\n",
              "    }\n",
              "\n",
              "    .dataframe tbody tr th {\n",
              "        vertical-align: top;\n",
              "    }\n",
              "\n",
              "    .dataframe thead th {\n",
              "        text-align: right;\n",
              "    }\n",
              "</style>\n",
              "<table border=\"1\" class=\"dataframe\">\n",
              "  <thead>\n",
              "    <tr style=\"text-align: right;\">\n",
              "      <th></th>\n",
              "      <th>pose_id</th>\n",
              "      <th>left_shoulder_left_wrist</th>\n",
              "      <th>right_shoulder_right_wrist</th>\n",
              "      <th>left_hip_left_ankle</th>\n",
              "      <th>right_hip_right_ankle</th>\n",
              "      <th>left_hip_left_wrist</th>\n",
              "      <th>right_hip_right_wrist</th>\n",
              "      <th>left_shoulder_left_ankle</th>\n",
              "      <th>right_shoulder_right_ankle</th>\n",
              "      <th>left_hip_right_wrist</th>\n",
              "      <th>...</th>\n",
              "      <th>z_left_heel</th>\n",
              "      <th>x_right_heel</th>\n",
              "      <th>y_right_heel</th>\n",
              "      <th>z_right_heel</th>\n",
              "      <th>x_left_foot_index</th>\n",
              "      <th>y_left_foot_index</th>\n",
              "      <th>z_left_foot_index</th>\n",
              "      <th>x_right_foot_index</th>\n",
              "      <th>y_right_foot_index</th>\n",
              "      <th>z_right_foot_index</th>\n",
              "    </tr>\n",
              "  </thead>\n",
              "  <tbody>\n",
              "    <tr>\n",
              "      <th>0</th>\n",
              "      <td>0</td>\n",
              "      <td>38.423300</td>\n",
              "      <td>39.855762</td>\n",
              "      <td>62.640720</td>\n",
              "      <td>57.871964</td>\n",
              "      <td>15.052525</td>\n",
              "      <td>20.688140</td>\n",
              "      <td>107.80279</td>\n",
              "      <td>101.256220</td>\n",
              "      <td>25.964552</td>\n",
              "      <td>...</td>\n",
              "      <td>NaN</td>\n",
              "      <td>NaN</td>\n",
              "      <td>NaN</td>\n",
              "      <td>NaN</td>\n",
              "      <td>NaN</td>\n",
              "      <td>NaN</td>\n",
              "      <td>NaN</td>\n",
              "      <td>NaN</td>\n",
              "      <td>NaN</td>\n",
              "      <td>NaN</td>\n",
              "    </tr>\n",
              "    <tr>\n",
              "      <th>1</th>\n",
              "      <td>1</td>\n",
              "      <td>65.631510</td>\n",
              "      <td>65.847110</td>\n",
              "      <td>55.631300</td>\n",
              "      <td>53.715553</td>\n",
              "      <td>106.099660</td>\n",
              "      <td>99.581940</td>\n",
              "      <td>108.05316</td>\n",
              "      <td>108.368080</td>\n",
              "      <td>99.120370</td>\n",
              "      <td>...</td>\n",
              "      <td>NaN</td>\n",
              "      <td>NaN</td>\n",
              "      <td>NaN</td>\n",
              "      <td>NaN</td>\n",
              "      <td>NaN</td>\n",
              "      <td>NaN</td>\n",
              "      <td>NaN</td>\n",
              "      <td>NaN</td>\n",
              "      <td>NaN</td>\n",
              "      <td>NaN</td>\n",
              "    </tr>\n",
              "    <tr>\n",
              "      <th>2</th>\n",
              "      <td>2</td>\n",
              "      <td>69.661674</td>\n",
              "      <td>69.360990</td>\n",
              "      <td>55.770256</td>\n",
              "      <td>53.510430</td>\n",
              "      <td>110.819440</td>\n",
              "      <td>109.959590</td>\n",
              "      <td>103.96043</td>\n",
              "      <td>102.363594</td>\n",
              "      <td>109.834720</td>\n",
              "      <td>...</td>\n",
              "      <td>NaN</td>\n",
              "      <td>NaN</td>\n",
              "      <td>NaN</td>\n",
              "      <td>NaN</td>\n",
              "      <td>NaN</td>\n",
              "      <td>NaN</td>\n",
              "      <td>NaN</td>\n",
              "      <td>NaN</td>\n",
              "      <td>NaN</td>\n",
              "      <td>NaN</td>\n",
              "    </tr>\n",
              "    <tr>\n",
              "      <th>3</th>\n",
              "      <td>3</td>\n",
              "      <td>52.437600</td>\n",
              "      <td>55.870330</td>\n",
              "      <td>57.758915</td>\n",
              "      <td>57.445232</td>\n",
              "      <td>97.575290</td>\n",
              "      <td>94.503000</td>\n",
              "      <td>119.82603</td>\n",
              "      <td>118.113594</td>\n",
              "      <td>92.485230</td>\n",
              "      <td>...</td>\n",
              "      <td>NaN</td>\n",
              "      <td>NaN</td>\n",
              "      <td>NaN</td>\n",
              "      <td>NaN</td>\n",
              "      <td>NaN</td>\n",
              "      <td>NaN</td>\n",
              "      <td>NaN</td>\n",
              "      <td>NaN</td>\n",
              "      <td>NaN</td>\n",
              "      <td>NaN</td>\n",
              "    </tr>\n",
              "    <tr>\n",
              "      <th>4</th>\n",
              "      <td>4</td>\n",
              "      <td>30.867628</td>\n",
              "      <td>43.872227</td>\n",
              "      <td>67.210240</td>\n",
              "      <td>65.753365</td>\n",
              "      <td>25.952522</td>\n",
              "      <td>44.106445</td>\n",
              "      <td>105.16242</td>\n",
              "      <td>102.763930</td>\n",
              "      <td>44.958740</td>\n",
              "      <td>...</td>\n",
              "      <td>NaN</td>\n",
              "      <td>NaN</td>\n",
              "      <td>NaN</td>\n",
              "      <td>NaN</td>\n",
              "      <td>NaN</td>\n",
              "      <td>NaN</td>\n",
              "      <td>NaN</td>\n",
              "      <td>NaN</td>\n",
              "      <td>NaN</td>\n",
              "      <td>NaN</td>\n",
              "    </tr>\n",
              "  </tbody>\n",
              "</table>\n",
              "<p>5 rows × 171 columns</p>\n",
              "</div>\n",
              "    <div class=\"colab-df-buttons\">\n",
              "\n",
              "  <div class=\"colab-df-container\">\n",
              "    <button class=\"colab-df-convert\" onclick=\"convertToInteractive('df-71cbd179-ac97-422c-aa12-c13e6d7bbc83')\"\n",
              "            title=\"Convert this dataframe to an interactive table.\"\n",
              "            style=\"display:none;\">\n",
              "\n",
              "  <svg xmlns=\"http://www.w3.org/2000/svg\" height=\"24px\" viewBox=\"0 -960 960 960\">\n",
              "    <path d=\"M120-120v-720h720v720H120Zm60-500h600v-160H180v160Zm220 220h160v-160H400v160Zm0 220h160v-160H400v160ZM180-400h160v-160H180v160Zm440 0h160v-160H620v160ZM180-180h160v-160H180v160Zm440 0h160v-160H620v160Z\"/>\n",
              "  </svg>\n",
              "    </button>\n",
              "\n",
              "  <style>\n",
              "    .colab-df-container {\n",
              "      display:flex;\n",
              "      gap: 12px;\n",
              "    }\n",
              "\n",
              "    .colab-df-convert {\n",
              "      background-color: #E8F0FE;\n",
              "      border: none;\n",
              "      border-radius: 50%;\n",
              "      cursor: pointer;\n",
              "      display: none;\n",
              "      fill: #1967D2;\n",
              "      height: 32px;\n",
              "      padding: 0 0 0 0;\n",
              "      width: 32px;\n",
              "    }\n",
              "\n",
              "    .colab-df-convert:hover {\n",
              "      background-color: #E2EBFA;\n",
              "      box-shadow: 0px 1px 2px rgba(60, 64, 67, 0.3), 0px 1px 3px 1px rgba(60, 64, 67, 0.15);\n",
              "      fill: #174EA6;\n",
              "    }\n",
              "\n",
              "    .colab-df-buttons div {\n",
              "      margin-bottom: 4px;\n",
              "    }\n",
              "\n",
              "    [theme=dark] .colab-df-convert {\n",
              "      background-color: #3B4455;\n",
              "      fill: #D2E3FC;\n",
              "    }\n",
              "\n",
              "    [theme=dark] .colab-df-convert:hover {\n",
              "      background-color: #434B5C;\n",
              "      box-shadow: 0px 1px 3px 1px rgba(0, 0, 0, 0.15);\n",
              "      filter: drop-shadow(0px 1px 2px rgba(0, 0, 0, 0.3));\n",
              "      fill: #FFFFFF;\n",
              "    }\n",
              "  </style>\n",
              "\n",
              "    <script>\n",
              "      const buttonEl =\n",
              "        document.querySelector('#df-71cbd179-ac97-422c-aa12-c13e6d7bbc83 button.colab-df-convert');\n",
              "      buttonEl.style.display =\n",
              "        google.colab.kernel.accessAllowed ? 'block' : 'none';\n",
              "\n",
              "      async function convertToInteractive(key) {\n",
              "        const element = document.querySelector('#df-71cbd179-ac97-422c-aa12-c13e6d7bbc83');\n",
              "        const dataTable =\n",
              "          await google.colab.kernel.invokeFunction('convertToInteractive',\n",
              "                                                    [key], {});\n",
              "        if (!dataTable) return;\n",
              "\n",
              "        const docLinkHtml = 'Like what you see? Visit the ' +\n",
              "          '<a target=\"_blank\" href=https://colab.research.google.com/notebooks/data_table.ipynb>data table notebook</a>'\n",
              "          + ' to learn more about interactive tables.';\n",
              "        element.innerHTML = '';\n",
              "        dataTable['output_type'] = 'display_data';\n",
              "        await google.colab.output.renderOutput(dataTable, element);\n",
              "        const docLink = document.createElement('div');\n",
              "        docLink.innerHTML = docLinkHtml;\n",
              "        element.appendChild(docLink);\n",
              "      }\n",
              "    </script>\n",
              "  </div>\n",
              "\n",
              "\n",
              "<div id=\"df-56557a3b-1d40-409a-854c-4145e04bc5dd\">\n",
              "  <button class=\"colab-df-quickchart\" onclick=\"quickchart('df-56557a3b-1d40-409a-854c-4145e04bc5dd')\"\n",
              "            title=\"Suggest charts\"\n",
              "            style=\"display:none;\">\n",
              "\n",
              "<svg xmlns=\"http://www.w3.org/2000/svg\" height=\"24px\"viewBox=\"0 0 24 24\"\n",
              "     width=\"24px\">\n",
              "    <g>\n",
              "        <path d=\"M19 3H5c-1.1 0-2 .9-2 2v14c0 1.1.9 2 2 2h14c1.1 0 2-.9 2-2V5c0-1.1-.9-2-2-2zM9 17H7v-7h2v7zm4 0h-2V7h2v10zm4 0h-2v-4h2v4z\"/>\n",
              "    </g>\n",
              "</svg>\n",
              "  </button>\n",
              "\n",
              "<style>\n",
              "  .colab-df-quickchart {\n",
              "      --bg-color: #E8F0FE;\n",
              "      --fill-color: #1967D2;\n",
              "      --hover-bg-color: #E2EBFA;\n",
              "      --hover-fill-color: #174EA6;\n",
              "      --disabled-fill-color: #AAA;\n",
              "      --disabled-bg-color: #DDD;\n",
              "  }\n",
              "\n",
              "  [theme=dark] .colab-df-quickchart {\n",
              "      --bg-color: #3B4455;\n",
              "      --fill-color: #D2E3FC;\n",
              "      --hover-bg-color: #434B5C;\n",
              "      --hover-fill-color: #FFFFFF;\n",
              "      --disabled-bg-color: #3B4455;\n",
              "      --disabled-fill-color: #666;\n",
              "  }\n",
              "\n",
              "  .colab-df-quickchart {\n",
              "    background-color: var(--bg-color);\n",
              "    border: none;\n",
              "    border-radius: 50%;\n",
              "    cursor: pointer;\n",
              "    display: none;\n",
              "    fill: var(--fill-color);\n",
              "    height: 32px;\n",
              "    padding: 0;\n",
              "    width: 32px;\n",
              "  }\n",
              "\n",
              "  .colab-df-quickchart:hover {\n",
              "    background-color: var(--hover-bg-color);\n",
              "    box-shadow: 0 1px 2px rgba(60, 64, 67, 0.3), 0 1px 3px 1px rgba(60, 64, 67, 0.15);\n",
              "    fill: var(--button-hover-fill-color);\n",
              "  }\n",
              "\n",
              "  .colab-df-quickchart-complete:disabled,\n",
              "  .colab-df-quickchart-complete:disabled:hover {\n",
              "    background-color: var(--disabled-bg-color);\n",
              "    fill: var(--disabled-fill-color);\n",
              "    box-shadow: none;\n",
              "  }\n",
              "\n",
              "  .colab-df-spinner {\n",
              "    border: 2px solid var(--fill-color);\n",
              "    border-color: transparent;\n",
              "    border-bottom-color: var(--fill-color);\n",
              "    animation:\n",
              "      spin 1s steps(1) infinite;\n",
              "  }\n",
              "\n",
              "  @keyframes spin {\n",
              "    0% {\n",
              "      border-color: transparent;\n",
              "      border-bottom-color: var(--fill-color);\n",
              "      border-left-color: var(--fill-color);\n",
              "    }\n",
              "    20% {\n",
              "      border-color: transparent;\n",
              "      border-left-color: var(--fill-color);\n",
              "      border-top-color: var(--fill-color);\n",
              "    }\n",
              "    30% {\n",
              "      border-color: transparent;\n",
              "      border-left-color: var(--fill-color);\n",
              "      border-top-color: var(--fill-color);\n",
              "      border-right-color: var(--fill-color);\n",
              "    }\n",
              "    40% {\n",
              "      border-color: transparent;\n",
              "      border-right-color: var(--fill-color);\n",
              "      border-top-color: var(--fill-color);\n",
              "    }\n",
              "    60% {\n",
              "      border-color: transparent;\n",
              "      border-right-color: var(--fill-color);\n",
              "    }\n",
              "    80% {\n",
              "      border-color: transparent;\n",
              "      border-right-color: var(--fill-color);\n",
              "      border-bottom-color: var(--fill-color);\n",
              "    }\n",
              "    90% {\n",
              "      border-color: transparent;\n",
              "      border-bottom-color: var(--fill-color);\n",
              "    }\n",
              "  }\n",
              "</style>\n",
              "\n",
              "  <script>\n",
              "    async function quickchart(key) {\n",
              "      const quickchartButtonEl =\n",
              "        document.querySelector('#' + key + ' button');\n",
              "      quickchartButtonEl.disabled = true;  // To prevent multiple clicks.\n",
              "      quickchartButtonEl.classList.add('colab-df-spinner');\n",
              "      try {\n",
              "        const charts = await google.colab.kernel.invokeFunction(\n",
              "            'suggestCharts', [key], {});\n",
              "      } catch (error) {\n",
              "        console.error('Error during call to suggestCharts:', error);\n",
              "      }\n",
              "      quickchartButtonEl.classList.remove('colab-df-spinner');\n",
              "      quickchartButtonEl.classList.add('colab-df-quickchart-complete');\n",
              "    }\n",
              "    (() => {\n",
              "      let quickchartButtonEl =\n",
              "        document.querySelector('#df-56557a3b-1d40-409a-854c-4145e04bc5dd button');\n",
              "      quickchartButtonEl.style.display =\n",
              "        google.colab.kernel.accessAllowed ? 'block' : 'none';\n",
              "    })();\n",
              "  </script>\n",
              "</div>\n",
              "    </div>\n",
              "  </div>\n"
            ]
          },
          "metadata": {},
          "execution_count": 35
        }
      ]
    },
    {
      "cell_type": "code",
      "source": [
        "type(X), X.dtype, y.dtype"
      ],
      "metadata": {
        "id": "KYZUPWM1MJAN",
        "colab": {
          "base_uri": "https://localhost:8080/"
        },
        "outputId": "60275fdf-7281-4fd0-8f51-519f2bef12d2"
      },
      "execution_count": null,
      "outputs": [
        {
          "output_type": "execute_result",
          "data": {
            "text/plain": [
              "(torch.Tensor, torch.float32, torch.float32)"
            ]
          },
          "metadata": {},
          "execution_count": 36
        }
      ]
    },
    {
      "cell_type": "code",
      "source": [
        "# split data into training and test sets\n",
        "from sklearn.model_selection import train_test_split\n",
        "X_train, X_test, y_train, y_test = train_test_split(X,\n",
        "                                                    y,\n",
        "                                                    test_size=0.2, # percentage of test\n",
        "                                                    # shuffle=True,\n",
        "                                                    random_state=42)\n",
        "print(f\"X_train shape: {X_train.shape}, X_test shape: {X_test.shape}\")\n",
        "print(f\"y_train shape: {y_train.shape}, y_test shape: {y_test.shape}\")"
      ],
      "metadata": {
        "id": "wLDPex4mNPqc",
        "colab": {
          "base_uri": "https://localhost:8080/"
        },
        "outputId": "c1e6ac04-9cb5-43ba-8938-4442f5bea27b"
      },
      "execution_count": null,
      "outputs": [
        {
          "output_type": "stream",
          "name": "stdout",
          "text": [
            "X_train shape: torch.Size([1097, 170]), X_test shape: torch.Size([275, 170])\n",
            "y_train shape: torch.Size([1097]), y_test shape: torch.Size([275])\n"
          ]
        }
      ]
    },
    {
      "cell_type": "markdown",
      "source": [
        "# 2. Create the Model"
      ],
      "metadata": {
        "id": "Bbq_K4BSNUMj"
      }
    },
    {
      "cell_type": "code",
      "source": [
        "import torch\n",
        "from torch import nn\n",
        "\n",
        "device = \"cuda\" if torch.cuda.is_available() else \"cpu\"\n",
        "device"
      ],
      "metadata": {
        "id": "VLf_mos8NZfr",
        "colab": {
          "base_uri": "https://localhost:8080/",
          "height": 35
        },
        "outputId": "4fdce319-8cfc-42b9-fab5-063a2db914a8"
      },
      "execution_count": null,
      "outputs": [
        {
          "output_type": "execute_result",
          "data": {
            "text/plain": [
              "'cpu'"
            ],
            "application/vnd.google.colaboratory.intrinsic+json": {
              "type": "string"
            }
          },
          "metadata": {},
          "execution_count": 38
        }
      ]
    },
    {
      "cell_type": "code",
      "source": [
        "class ExerciseModelV0(nn.Module):\n",
        "  def __init__(self, input_features, output_features, hidden_units=8):\n",
        "    super().__init__()\n",
        "\n",
        "    self.layer_stack = nn.Sequential(\n",
        "        nn.Linear(in_features=input_features, out_features=hidden_units),\n",
        "        nn.ReLU(),\n",
        "        nn.Linear(in_features=hidden_units, out_features=hidden_units),\n",
        "        nn.ReLU(),\n",
        "        nn.Linear(in_features=hidden_units, out_features=output_features)\n",
        "    )\n",
        "\n",
        "  def forward(self, x: torch.Tensor) -> torch.Tensor:\n",
        "    return self.layer_stack(x)\n",
        "\n",
        "exercise_model_0 = ExerciseModelV0(input_features=X.size(dim=1),\n",
        "                                   hidden_units=200,\n",
        "                                   output_features=10).to(device)\n",
        "exercise_model_0"
      ],
      "metadata": {
        "id": "UE02gwEyNd7g",
        "colab": {
          "base_uri": "https://localhost:8080/"
        },
        "outputId": "7c051888-f8b2-4fd5-892a-d4f92d8bf82c"
      },
      "execution_count": null,
      "outputs": [
        {
          "output_type": "execute_result",
          "data": {
            "text/plain": [
              "ExerciseModelV0(\n",
              "  (layer_stack): Sequential(\n",
              "    (0): Linear(in_features=170, out_features=200, bias=True)\n",
              "    (1): ReLU()\n",
              "    (2): Linear(in_features=200, out_features=200, bias=True)\n",
              "    (3): ReLU()\n",
              "    (4): Linear(in_features=200, out_features=10, bias=True)\n",
              "  )\n",
              ")"
            ]
          },
          "metadata": {},
          "execution_count": 63
        }
      ]
    },
    {
      "cell_type": "markdown",
      "source": [
        "# 3. Train the model"
      ],
      "metadata": {
        "id": "4oDxhGhwRATX"
      }
    },
    {
      "cell_type": "markdown",
      "source": [
        "## 3.1 Functions and Setup"
      ],
      "metadata": {
        "id": "_GVfq3BgSAo8"
      }
    },
    {
      "cell_type": "code",
      "source": [
        "# set model version\n",
        "model = exercise_model_0"
      ],
      "metadata": {
        "id": "v1ADiF63tUxa"
      },
      "execution_count": null,
      "outputs": []
    },
    {
      "cell_type": "code",
      "source": [
        "# calculate accuracy\n",
        "def accuracy_fn(y_true, y_pred):\n",
        "  correct = torch.eq(y_true, y_pred).sum().item()\n",
        "  acc = (correct/len(y_pred)) * 100\n",
        "  return acc"
      ],
      "metadata": {
        "id": "Ck3t1BtNSGI8"
      },
      "execution_count": null,
      "outputs": []
    },
    {
      "cell_type": "code",
      "source": [
        "# loss function and optimizer\n",
        "loss_fn = nn.CrossEntropyLoss()\n",
        "\n",
        "optimizer = torch.optim.SGD(params=model.parameters(),\n",
        "                            lr=0.01)"
      ],
      "metadata": {
        "id": "Tl1PRxllSVj7"
      },
      "execution_count": null,
      "outputs": []
    },
    {
      "cell_type": "markdown",
      "source": [
        "## 3.2 Training"
      ],
      "metadata": {
        "id": "qKVeLWEyoAfh"
      }
    },
    {
      "cell_type": "code",
      "source": [
        "# fit the multi-class model to the data\n",
        "# torch.manual_seed(42)\n",
        "# torch.cuda.manual_seed(42)\n",
        "\n",
        "epochs = 400\n",
        "\n",
        "X_train, y_train = X_train.to(device), y_train.to(device)\n",
        "X_test, y_test = X_test.to(device), y_test.to(device)\n",
        "\n",
        "for epoch in range(epochs):\n",
        "  model.train()\n",
        "\n",
        "  y_logits = model(X_train)\n",
        "  y_pred = torch.softmax(y_logits, dim=1).argmax(dim=1)\n",
        "\n",
        "  loss = loss_fn(y_logits, y_train.type(torch.LongTensor))\n",
        "  acc = accuracy_fn(y_true=y_train,\n",
        "                    y_pred=y_pred)\n",
        "\n",
        "  optimizer.zero_grad()\n",
        "  loss.backward()\n",
        "  optimizer.step()\n",
        "\n",
        "  ### Testing\n",
        "  model.eval()\n",
        "  with torch.inference_mode():\n",
        "    test_logits = model(X_test)\n",
        "    test_pred = torch.softmax(test_logits, dim=1).argmax(dim=1)\n",
        "\n",
        "    test_loss = loss_fn(test_logits, y_test.type(torch.LongTensor))\n",
        "    test_acc = accuracy_fn(y_true=y_test,\n",
        "                      y_pred=test_pred)\n",
        "\n",
        "    if epoch % 10 == 0:\n",
        "      print(f\"Epoch: {epoch} | Loss: {loss:.5f}, Accuracy: {acc:.2f}% | Test loss: {test_loss:.5f}, Test accuracy: {test_acc:.2f}%\")"
      ],
      "metadata": {
        "id": "AdFHLZX0TIDO",
        "colab": {
          "base_uri": "https://localhost:8080/"
        },
        "outputId": "e0cf9ce9-97ce-4b8b-a498-b0a36117fc1c"
      },
      "execution_count": null,
      "outputs": [
        {
          "output_type": "stream",
          "name": "stdout",
          "text": [
            "Epoch: 0 | Loss: 6.21483, Accuracy: 8.48% | Test loss: 14.59636, Test accuracy: 17.45%\n",
            "Epoch: 10 | Loss: 1.02808, Accuracy: 69.10% | Test loss: 1.22153, Test accuracy: 58.18%\n",
            "Epoch: 20 | Loss: 0.74932, Accuracy: 75.75% | Test loss: 0.94911, Test accuracy: 65.09%\n",
            "Epoch: 30 | Loss: 0.62026, Accuracy: 80.31% | Test loss: 0.82341, Test accuracy: 70.91%\n",
            "Epoch: 40 | Loss: 0.54488, Accuracy: 82.41% | Test loss: 0.76326, Test accuracy: 72.73%\n",
            "Epoch: 50 | Loss: 0.48544, Accuracy: 85.05% | Test loss: 0.72779, Test accuracy: 75.27%\n",
            "Epoch: 60 | Loss: 0.43619, Accuracy: 86.51% | Test loss: 0.69640, Test accuracy: 77.45%\n",
            "Epoch: 70 | Loss: 0.40829, Accuracy: 86.60% | Test loss: 0.68393, Test accuracy: 77.82%\n",
            "Epoch: 80 | Loss: 0.37186, Accuracy: 87.78% | Test loss: 0.66015, Test accuracy: 79.27%\n",
            "Epoch: 90 | Loss: 0.39372, Accuracy: 86.51% | Test loss: 0.69788, Test accuracy: 74.55%\n",
            "Epoch: 100 | Loss: 0.31052, Accuracy: 91.52% | Test loss: 0.61911, Test accuracy: 77.82%\n",
            "Epoch: 110 | Loss: 0.33225, Accuracy: 89.79% | Test loss: 0.64374, Test accuracy: 78.55%\n",
            "Epoch: 120 | Loss: 0.30502, Accuracy: 89.79% | Test loss: 0.62882, Test accuracy: 79.64%\n",
            "Epoch: 130 | Loss: 0.26026, Accuracy: 91.98% | Test loss: 0.59150, Test accuracy: 81.45%\n",
            "Epoch: 140 | Loss: 0.32294, Accuracy: 90.06% | Test loss: 0.66428, Test accuracy: 78.55%\n",
            "Epoch: 150 | Loss: 0.24510, Accuracy: 93.07% | Test loss: 0.59252, Test accuracy: 79.64%\n",
            "Epoch: 160 | Loss: 0.23559, Accuracy: 93.25% | Test loss: 0.59439, Test accuracy: 80.36%\n",
            "Epoch: 170 | Loss: 0.23494, Accuracy: 93.16% | Test loss: 0.58916, Test accuracy: 81.45%\n",
            "Epoch: 180 | Loss: 0.24481, Accuracy: 91.34% | Test loss: 0.60606, Test accuracy: 80.73%\n",
            "Epoch: 190 | Loss: 0.18780, Accuracy: 95.35% | Test loss: 0.54998, Test accuracy: 83.64%\n",
            "Epoch: 200 | Loss: 0.26679, Accuracy: 90.43% | Test loss: 0.64812, Test accuracy: 78.91%\n",
            "Epoch: 210 | Loss: 0.18211, Accuracy: 95.53% | Test loss: 0.55037, Test accuracy: 80.00%\n",
            "Epoch: 220 | Loss: 0.20745, Accuracy: 94.07% | Test loss: 0.58864, Test accuracy: 77.82%\n",
            "Epoch: 230 | Loss: 0.17370, Accuracy: 95.62% | Test loss: 0.55187, Test accuracy: 82.18%\n",
            "Epoch: 240 | Loss: 0.15964, Accuracy: 96.17% | Test loss: 0.54905, Test accuracy: 82.18%\n",
            "Epoch: 250 | Loss: 0.23497, Accuracy: 92.98% | Test loss: 0.62531, Test accuracy: 80.00%\n",
            "Epoch: 260 | Loss: 0.15155, Accuracy: 95.90% | Test loss: 0.54352, Test accuracy: 83.27%\n",
            "Epoch: 270 | Loss: 0.15894, Accuracy: 94.99% | Test loss: 0.56270, Test accuracy: 82.55%\n",
            "Epoch: 280 | Loss: 0.15875, Accuracy: 95.08% | Test loss: 0.56044, Test accuracy: 82.55%\n",
            "Epoch: 290 | Loss: 0.15322, Accuracy: 95.99% | Test loss: 0.56720, Test accuracy: 81.82%\n",
            "Epoch: 300 | Loss: 0.14978, Accuracy: 95.99% | Test loss: 0.56157, Test accuracy: 81.09%\n",
            "Epoch: 310 | Loss: 0.14191, Accuracy: 95.99% | Test loss: 0.55118, Test accuracy: 80.36%\n",
            "Epoch: 320 | Loss: 0.16071, Accuracy: 95.17% | Test loss: 0.56220, Test accuracy: 81.82%\n",
            "Epoch: 330 | Loss: 0.12644, Accuracy: 96.63% | Test loss: 0.53882, Test accuracy: 83.64%\n",
            "Epoch: 340 | Loss: 0.13287, Accuracy: 95.81% | Test loss: 0.56103, Test accuracy: 83.27%\n",
            "Epoch: 350 | Loss: 0.11785, Accuracy: 96.90% | Test loss: 0.54141, Test accuracy: 84.36%\n",
            "Epoch: 360 | Loss: 0.12269, Accuracy: 96.81% | Test loss: 0.55991, Test accuracy: 83.64%\n",
            "Epoch: 370 | Loss: 0.14707, Accuracy: 95.62% | Test loss: 0.56696, Test accuracy: 81.45%\n",
            "Epoch: 380 | Loss: 0.10551, Accuracy: 97.90% | Test loss: 0.53487, Test accuracy: 84.36%\n",
            "Epoch: 390 | Loss: 0.13024, Accuracy: 96.44% | Test loss: 0.57794, Test accuracy: 81.45%\n"
          ]
        }
      ]
    },
    {
      "cell_type": "markdown",
      "source": [
        "# 4. Evaluate the model\n",
        "\n",
        "1. Make predictions with trained model on test dataset\n",
        "2. Make a confusion matrix with `torchmetrics.ConfusionMatrix`\n",
        "3. Plot the confusion using `mlxtend.plotting.plot_confusion_matrix()`\n",
        "torchmetrics: https://torchmetrics.readthedocs.io/en/v0.10.2/classification/confusion_matrix.html"
      ],
      "metadata": {
        "id": "Tncj9shWV4QY"
      }
    },
    {
      "cell_type": "code",
      "source": [
        "from tqdm.auto import tqdm\n",
        "\n",
        "# 1. make predictions with trained model\n",
        "y_preds = []\n",
        "model.eval()\n",
        "with torch.inference_mode():\n",
        "  y_logit = model(X)\n",
        "  y_pred = torch.softmax(y_logit.squeeze(), dim=0).argmax(dim=1)\n",
        "\n",
        "  print(y_pred)"
      ],
      "metadata": {
        "colab": {
          "base_uri": "https://localhost:8080/"
        },
        "id": "aM0MNDqMomPL",
        "outputId": "e004bda3-70f1-4bc2-b3a0-d0839cfb633e"
      },
      "execution_count": null,
      "outputs": [
        {
          "output_type": "stream",
          "name": "stdout",
          "text": [
            "tensor([0, 0, 0,  ..., 9, 9, 9])\n"
          ]
        }
      ]
    },
    {
      "cell_type": "code",
      "source": [
        "# import libraries for model evaluation\n",
        "try:\n",
        "  import torchmetrics, mlxtend\n",
        "  print(f\"mlxtend version: {mlxtend.__version__}\")\n",
        "  assert int(mlxtend.__version__.split(\".\")[1] >= 19, \"mlxtend version should be 19 or higher\")\n",
        "except:\n",
        "  !pip install -q torchmetrics -U mlxtend\n",
        "  import torchmetrics, mlxtend\n",
        "  print(f\"mlxtend version: {mlxtend.__version__}\")"
      ],
      "metadata": {
        "colab": {
          "base_uri": "https://localhost:8080/"
        },
        "id": "I6fEm3VhoVrP",
        "outputId": "45175230-f171-4902-cc49-7c09caa61f1c"
      },
      "execution_count": null,
      "outputs": [
        {
          "output_type": "stream",
          "name": "stdout",
          "text": [
            "mlxtend version: 0.23.1\n",
            "mlxtend version: 0.23.1\n"
          ]
        }
      ]
    },
    {
      "cell_type": "code",
      "source": [
        "from torchmetrics import ConfusionMatrix\n",
        "from mlxtend.plotting import plot_confusion_matrix\n",
        "\n",
        "# 2. setup confusion instance and compare predictions to targets\n",
        "confmat = ConfusionMatrix(num_classes=len(class_names),\n",
        "                          task=\"multiclass\")\n",
        "confmat_tensor = confmat(preds=y_pred,\n",
        "                         target=y)\n",
        "\n",
        "# 3. plot confusion matrix\n",
        "fig, ax = plot_confusion_matrix(\n",
        "    conf_mat=confmat_tensor.numpy(),\n",
        "    class_names=class_names,\n",
        "    figsize=(10, 7)\n",
        ")"
      ],
      "metadata": {
        "colab": {
          "base_uri": "https://localhost:8080/",
          "height": 716
        },
        "id": "JZDziNQ4oKOn",
        "outputId": "456a419e-c7e3-4e46-d049-6bd6d55f0f39"
      },
      "execution_count": null,
      "outputs": [
        {
          "output_type": "display_data",
          "data": {
            "text/plain": [
              "<Figure size 1000x700 with 1 Axes>"
            ],
            "image/png": "[encoded data removed]"
          },
          "metadata": {}
        }
      ]
    },
    {
      "cell_type": "markdown",
      "source": [
        "## Conclusion\n",
        "Version 0 is only good at predicting pushups and squats."
      ],
      "metadata": {
        "id": "kYZJGgWRoesA"
      }
    },
    {
      "cell_type": "markdown",
      "source": [
        "# 5. Save the model"
      ],
      "metadata": {
        "id": "mfgBnRaSuTPY"
      }
    },
    {
      "cell_type": "code",
      "source": [],
      "metadata": {
        "id": "AHpNisu8uWF1"
      },
      "execution_count": null,
      "outputs": []
    }
  ]
}